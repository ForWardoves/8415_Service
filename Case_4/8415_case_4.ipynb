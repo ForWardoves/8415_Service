{
 "cells": [
  {
   "cell_type": "code",
   "execution_count": 16,
   "metadata": {},
   "outputs": [],
   "source": [
    "import math\n",
    "import ciw\n",
    "import pandas as pd\n",
    "import numpy as np\n",
    "import matplotlib.pyplot as plt\n",
    "from tqdm.autonotebook import tqdm"
   ]
  },
  {
   "cell_type": "code",
   "execution_count": 63,
   "metadata": {},
   "outputs": [],
   "source": [
    "class queue:\n",
    "    '''\n",
    "    A queue system class. \n",
    "    '''\n",
    "    def __init__(self, lbda: float, mu: float, c: float, mode = str, tandem_queue: bool = False,\n",
    "                cv_a: float = None,  cv_s: float = None, unit: str = 'years'): \n",
    "        '''\n",
    "        Initialize necessary parameter for a new queue system class.\n",
    "        \\n==INPUT==\n",
    "        `lbda`: `float`\n",
    "            𝜆: Arrival Rate\n",
    "        `mu`: `float`\n",
    "            µ: Service Rate\n",
    "        `c`: `float`\n",
    "            Number of servers\n",
    "        `mode`: `str`\n",
    "            Queue system configuration\n",
    "        `tandem_queue`: `bool`, default `False`\n",
    "            Whether the servers are sequentially aligned where a user must finish one queue before joining another. \n",
    "        `cv_a`, `cv_s`: `float`, default `None`\n",
    "            Exclusive for `mode = 'G/G'. Coefficient of variation for arrival rate and service rate.\n",
    "        `unit`: `str`, default `years`\n",
    "            Unit for annotation usage only. \n",
    "        '''\n",
    "        # Input check and conditional properties\n",
    "        self.mode = mode\n",
    "        if self.mode not in ['M/M', 'G/G']:\n",
    "            raise ValueError(f'{mode} queue system not currently supported. Queue system can be either \"M/M\" or \"G/G\". ')\n",
    "        elif self.mode == 'G/G':\n",
    "            if cv_s is None or cv_a is None: \n",
    "                raise ValueError ('Coefficient of Variations cv_s and cv_s must not be none when mode is G/G')\n",
    "            else: \n",
    "                self.cvs = cv_s\n",
    "                self.cva = cv_a\n",
    "        # Universal properties\n",
    "        self.lbda = lbda\n",
    "        self.mu = mu\n",
    "        self.c = c\n",
    "        self.tandem = tandem_queue\n",
    "        self.verbose = 0\n",
    "        self.unit = unit\n",
    "\n",
    "    def factorial(self, x):\n",
    "        if (x == 1) or (x==0):\n",
    "            return 1\n",
    "        else:\n",
    "            # recursive call to the function\n",
    "            return (x * self.factorial(x-1)) \n",
    "\n",
    "    def user_defined_sum(self, c,rho):\n",
    "        sum = 0\n",
    "        for n in range(c):\n",
    "            sum += (c*rho)**n/self.factorial(n) \n",
    "\n",
    "        return 1/(sum + (c*rho)**c/(self.factorial(c)*(1-rho)))\n",
    "\n",
    "    def get_params(self):\n",
    "        '''\n",
    "        Get the estimated steady state params of the new queue system using steady state analytical formulas. \n",
    "        '''\n",
    "        if self.mode == 'M/M': \n",
    "            self.rho = self.lbda/(self.c * self.mu)                       # Utilization rate\n",
    "            self.p0 = self.user_defined_sum(self.c, self.rho)             # Empty queue probability\n",
    "            self.lq = (self.c * self.rho) ** self.c * self.p0 * self.rho\\\n",
    "                    / (self.factorial(self.c) * (1-self.rho)**2)          # Length of queue\n",
    "            self.l = self.lq + self.lbda/self.mu                          # Length of system\n",
    "            self.wq = self.lq / self.lbda                                 # time in queue\n",
    "            self.w = self.l / self.lbda                                   # time in system\n",
    "        elif self.mode == 'G/G': \n",
    "            # Only in G-G Model: \n",
    "            self.s = 1 / self.mu # Average service time\n",
    "            self.a = 1 / self.lbda # Inter-arrival time\n",
    "            self.cvai = 1 / self.cva # CV of inter-arrival time\n",
    "            self.cvsi = 1 / self.cvs # CV of service time\n",
    "            # Other features: \n",
    "            self.rho = self.s / (self.c * self.a)          # Utilization rate\n",
    "            self.wq = self.s / self.c * (self.cvai**2 + self.cvsi**2)/2 * self.rho ** (-1+math.sqrt(2*(self.c+1)))/(1-self.rho) # Time in queue\n",
    "            self.w = self.wq + self.s # time in system\n",
    "            self.lq = self.wq * self.lbda # length of queue\n",
    "            self.l = self.w * self.lbda # length of system\n",
    "        if self.tandem == True: \n",
    "            self.wq = self.wq * 2\n",
    "            self.w = self.w * 2\n",
    "\n",
    "        if self.verbose ==1: \n",
    "            print(f'Queue system configuration: {self.mode}, arrival rate: {self.lbda:.2f}, service rate: {self.mu:.2f}, total {self.c} server(s).')\n",
    "            print(f'Is current queue tandem: {self.tandem}')\n",
    "            print(f'Utilization rate: {self.rho:.3f}')\n",
    "            print(f'Length of queue: {self.lq:.3f}, length of system: {self.l:.3f}')\n",
    "            print(f'Time in queue: {self.wq:.3f} {self.unit}, time in system: {self.w:.3f} {self.unit}')\n",
    "            print('------------------------------------------------------------------------------------------------------------')\n",
    "    \n",
    "    def discrete_sim_exp(self, seed:int = 0): \n",
    "        '''\n",
    "        Create a discrete event simulation (`self.sim`) using the given network with exponential simulation on both arrival and service distributions.\n",
    "        \\r Note that this will overwrite any previously-establish `self.sim` instances. \n",
    "        \\n==INPUT==\n",
    "        `seed`: `int`, default `0`\n",
    "            Random state seed to be passed to `ciw.seed()`\n",
    "        '''\n",
    "        # Define simulation network: \n",
    "        N = ciw.create_network(\n",
    "            arrival_distributions=[ciw.dists.Exponential(rate=self.lbda)],\n",
    "            service_distributions=[ciw.dists.Exponential(rate=self.mu)],\n",
    "            number_of_servers=[self.c])\n",
    "        ciw.seed(seed)\n",
    "        # Set up simulation:\n",
    "        Q = ciw.Simulation(N, tracker=ciw.trackers.SystemPopulation())\n",
    "        self.sim = Q\n",
    "        self.sim_type = 'exponential'\n",
    "    \n",
    "    def discrete_sim_gamma(self, seed:int = 0): \n",
    "        '''\n",
    "        Create a discrete event simulation (`self.sim`) using the given network with gamma simulation on both arrival and service distributions. \n",
    "        \\r Note that this will overwrite any previously-establish `self.sim` instances. \n",
    "            \\r **Only works for G/G/c queue instance!**\n",
    "        \\n==INPUT==\n",
    "        `seed`: `int`, default `0`\n",
    "            Random state seed to be passed to `ciw.seed()`\n",
    "        '''\n",
    "        # Check for queue instance mode: \n",
    "        if self.mode != 'G/G':\n",
    "            raise ValueError('gamma discrete simulation cannot be initiated under the current instance. Queue system must be created with G/G mode.')\n",
    "        # Calculate gamma distribution parameters:\n",
    "        #### Arrival: \n",
    "        self.alpha_arrival = (1/self.cva)**2\n",
    "        self.beta_arrival = self.alpha_arrival / self.lbda\n",
    "        #### Service:\n",
    "        self.alpha_service = (1/self.cvs)**2\n",
    "        self.beta_service = self.alpha_service / self.mu\n",
    "        # Define simulation network: \n",
    "        N = ciw.create_network(\n",
    "            arrival_distributions=[ciw.dists.Gamma(shapes = self.alpha_arrival, scale = self.beta_arrival)],\n",
    "            service_distributions=[ciw.dists.Gamma(shapes = self.alpha_service, scale = self.beta_service)],\n",
    "            number_of_servers=[self.c])\n",
    "        ciw.seed(seed)\n",
    "        # Set up simulation:\n",
    "        Q = ciw.Simulation(N, tracker=ciw.trackers.SystemPopulation())\n",
    "        self.sim = Q\n",
    "        self.sim_type = 'gamma'\n",
    "    \n",
    "    def get_sim_record(self, stop_criteria: str = 'customer', stop_count: int = 100000): \n",
    "        '''\n",
    "        Run `self.sim` for one time and generate event records `self.sim_record`.\n",
    "        \\n==INPUT==\n",
    "        `stop_criteria`: `str`, default `customer`\n",
    "            Simulation stop criteria. Can be:\n",
    "            \\t > `customer` (stopped when `stop_count` number of customers has reached the exit node)\n",
    "            \\r \\t > `time` (stop when simulation time has reached `stop_count`)\n",
    "        `stop_count`: `int`, default `100000`\n",
    "            Quantity threshold of stop criteria.\n",
    "        '''\n",
    "        # Run simulation:\n",
    "        if stop_criteria == 'customer':\n",
    "            self.sim.simulate_until_max_customers(stop_count, progress_bar=True)\n",
    "        elif stop_criteria == 'time': \n",
    "            self.sim.simulate_until_max_time(stop_count, progress_bar=True)\n",
    "        else: \n",
    "            raise ValueError('Stop criteria must be either \"customer\" or \"time\". ')\n",
    "        # Fetch simulation records\n",
    "        recs = self.sim.get_all_records()\n",
    "        df = pd.DataFrame(recs)\n",
    "        df.sort_values(by='arrival_date',inplace=True)\n",
    "        df['inter_arrival'] = df.arrival_date - df.arrival_date.shift(1,fill_value=0)\n",
    "        df['system_time'] = df.exit_date - df.arrival_date\n",
    "        df = df[['id_number',\n",
    "                 'server_id',\n",
    "                 'arrival_date',\n",
    "                 'waiting_time',\n",
    "                 'system_time',\n",
    "                 'service_start_date',\n",
    "                 'server_id',\n",
    "                 'service_time',\n",
    "                 'service_end_date',\n",
    "                 'exit_date',\n",
    "                 'queue_size_at_arrival',\n",
    "                 'queue_size_at_departure']]\n",
    "        # Upload to class instance: \n",
    "        self.sim_record = df\n",
    "    \n",
    "    def get_sim_params(self, df:pd.DataFrame = None): \n",
    "        '''\n",
    "        Print out calculate necessary simulation params.\n",
    "        \\nGenerate the following quantities: \n",
    "        \\n > `self.sim_wq` Average time in queue; \n",
    "        \\n > `self.sim_w` Average time; \n",
    "        \\n > `self.sim_util_rate` Average utilization rate of all servers.\n",
    "        '''\n",
    "        if df is None: \n",
    "            df = self.sim_record\n",
    "            self.sim_wq = round(df['waiting_time'].mean(),3)\n",
    "            self.sim_w = round(df['system_time'].mean(),3)\n",
    "            self.sim_util_rate = [srv.utilisation for srv in self.sim.nodes[1].servers]\n",
    "        else: \n",
    "            # Only used for map_wait_time\n",
    "            sim_wq = round(df['waiting_time'].mean(),3)\n",
    "            return sim_wq\n",
    "        if self.verbose == 1: \n",
    "            print(f'{self.sim_type} Simulation result: ')\n",
    "            print(f'Time in queue: {self.sim_wq:.3f}, time in system: {self.sim_w:.3f}')\n",
    "            print(f'Server utilization rate: {[round(rate,3) for rate in self.sim_util_rate]}')\n",
    "            print('------------------------------------------------------------------------------------------------------------')\n",
    "    \n",
    "    \n",
    "    def get_steady_state(self, start_sim_time: int, sim_time_increments:int, steps: int, \n",
    "                          plot:bool = True, show_plot:bool = True):\n",
    "        '''\n",
    "        Used to find the minimal simulation time to reach steady state in terms of average wait time.\n",
    "        \\n==INPUT==\n",
    "        `start_sim_time`: `int`\n",
    "            Simulation time to start the iteration from\n",
    "        `sim_time_increments`: `int`\n",
    "            Increment in simulation time per iteration\n",
    "        `steps`: `int`\n",
    "            Number of iterations\n",
    "        `plot`: `bool`, default `True`\n",
    "            Whether to plot the result as a wait_time vs. simulation time chart (stored as `self.sim_steady_state_plot`)\n",
    "        `show_plot`: bool, default `True`\n",
    "            Whether to show `self.sim_steady_state_plot` immediately after this method\n",
    "        '''\n",
    "        self.sim_avg_queue_time = {}\n",
    "        for time in tqdm(np.arange(start_sim_time, sim_time_increments*steps+start_sim_time, sim_time_increments), desc = 'Iterating day scenarios..', total=steps):\n",
    "            self.sim.simulate_until_max_time(time)\n",
    "            recs = self.sim.get_all_records()\n",
    "            mwp_df = pd.DataFrame(recs)\n",
    "            wait_time = self.get_sim_params(df=mwp_df)\n",
    "            self.sim_avg_queue_time[time] = wait_time\n",
    "        if plot is True:\n",
    "            fig,ax = plt.subplots(figsize=(12,4))\n",
    "            ax.plot(list(self.sim_avg_queue_time.keys()), list(self.sim_avg_queue_time.values()))\n",
    "            ax.set_ylabel(\"Average Wait Time \", fontsize=14)\n",
    "            ax.set_xlabel(\"Simultion Stop Time (yrs)\", fontsize=14)\n",
    "            self.sim_steady_state_plot = fig\n",
    "            #plt.legend(bbox_to_anchor=(1.6, .5))\n",
    "            plt.title(f'Steady State Behavior of Avg. Wait Time - sim under {self.sim_type} dist.')\n",
    "            if show_plot is True:\n",
    "                plt.show() \n"
   ]
  },
  {
   "cell_type": "markdown",
   "metadata": {},
   "source": [
    "# Q1: Current operational status"
   ]
  },
  {
   "cell_type": "code",
   "execution_count": 28,
   "metadata": {},
   "outputs": [
    {
     "data": {
      "text/html": [
       "<div>\n",
       "<style scoped>\n",
       "    .dataframe tbody tr th:only-of-type {\n",
       "        vertical-align: middle;\n",
       "    }\n",
       "\n",
       "    .dataframe tbody tr th {\n",
       "        vertical-align: top;\n",
       "    }\n",
       "\n",
       "    .dataframe thead th {\n",
       "        text-align: right;\n",
       "    }\n",
       "</style>\n",
       "<table border=\"1\" class=\"dataframe\">\n",
       "  <thead>\n",
       "    <tr style=\"text-align: right;\">\n",
       "      <th></th>\n",
       "      <th>avg_patients</th>\n",
       "      <th>avg_donors</th>\n",
       "    </tr>\n",
       "    <tr>\n",
       "      <th>annual_rate</th>\n",
       "      <th></th>\n",
       "      <th></th>\n",
       "    </tr>\n",
       "  </thead>\n",
       "  <tbody>\n",
       "    <tr>\n",
       "      <th>london</th>\n",
       "      <td>109.025</td>\n",
       "      <td>110.047</td>\n",
       "    </tr>\n",
       "    <tr>\n",
       "      <th>toronto</th>\n",
       "      <td>327.259</td>\n",
       "      <td>327.514</td>\n",
       "    </tr>\n",
       "  </tbody>\n",
       "</table>\n",
       "</div>"
      ],
      "text/plain": [
       "             avg_patients  avg_donors\n",
       "annual_rate                          \n",
       "london            109.025     110.047\n",
       "toronto           327.259     327.514"
      ]
     },
     "execution_count": 28,
     "metadata": {},
     "output_type": "execute_result"
    }
   ],
   "source": [
    "raw_data = {'london': {'avg_patients': 109.025, 'avg_donors': 110.047}, 'toronto': {'avg_patients': 327.259, 'avg_donors': 327.514}}\n",
    "data = pd.DataFrame(raw_data) #.div(365) - Annual data\n",
    "data.columns.name = 'annual_rate'\n",
    "data = data.T\n",
    "data"
   ]
  },
  {
   "cell_type": "code",
   "execution_count": 29,
   "metadata": {},
   "outputs": [
    {
     "name": "stdout",
     "output_type": "stream",
     "text": [
      "Current Operational Status: Western Ontario Region (London, ON)\n",
      "Queue system configuration: M/M, arrival rate: 109.03, service rate: 110.05, total 1 server(s).\n",
      "Is current queue tandem: False\n",
      "Utilization rate: 0.991\n",
      "Length of queue: 105.687, length of system: 106.678\n",
      "Time in queue: 0.969 years, time in system: 0.978 years\n",
      "------------------------------------------------------------------------------------------------------------\n",
      "Current Operational Status: Western Ontario Region (Toronto, ON)\n",
      "Queue system configuration: M/M, arrival rate: 327.26, service rate: 327.51, total 1 server(s).\n",
      "Is current queue tandem: False\n",
      "Utilization rate: 0.999\n",
      "Length of queue: 1282.369, length of system: 1283.369\n",
      "Time in queue: 3.919 years, time in system: 3.922 years\n",
      "------------------------------------------------------------------------------------------------------------\n"
     ]
    }
   ],
   "source": [
    "# Class discussion assumes\n",
    "# London\n",
    "print('Current Operational Status: Western Ontario Region (London, ON)')\n",
    "current = queue(data.avg_patients.london, data.avg_donors.london, mode = 'M/M', c=1)\n",
    "current.verbose = 1\n",
    "current.get_params()\n",
    "# Toronto\n",
    "print('Current Operational Status: Western Ontario Region (Toronto, ON)')\n",
    "current = queue(data.avg_patients.toronto, data.avg_donors.toronto, mode = 'M/M', c=1)\n",
    "current.verbose = 1\n",
    "current.get_params()"
   ]
  },
  {
   "cell_type": "markdown",
   "metadata": {},
   "source": [
    "# Q2: Proposed merge strategies"
   ]
  },
  {
   "cell_type": "markdown",
   "metadata": {},
   "source": [
    "## Strategy 1: Merged queue with FIFO Service. "
   ]
  },
  {
   "cell_type": "code",
   "execution_count": 30,
   "metadata": {},
   "outputs": [
    {
     "name": "stdout",
     "output_type": "stream",
     "text": [
      "Proposal 1: One M-M-2\n",
      "Queue system configuration: M/M, arrival rate: 436.28, service rate: 218.78, total 2 server(s).\n",
      "Is current queue tandem: False\n",
      "Utilization rate: 0.997\n",
      "Length of queue: 340.153, length of system: 342.147\n",
      "Time in queue: 0.780 years, time in system: 0.784 years\n",
      "------------------------------------------------------------------------------------------------------------\n"
     ]
    }
   ],
   "source": [
    "# One M/M/2 Server\n",
    "# Class discussion assumes that we are dealing with two uniform servers with processing rate = avg of two regions\n",
    "print('Proposal 1: One M-M-2')\n",
    "stg1 = queue(data.avg_patients.sum(), data.avg_donors.mean(), mode = 'M/M', c=2)\n",
    "stg1.verbose = 1 #queue.verbose MUST =1 for you to have printed logs\n",
    "stg1.get_params()"
   ]
  },
  {
   "cell_type": "markdown",
   "metadata": {},
   "source": [
    "## Strategy 2: Merged queue AND donor pool with FIFO Service (consolidate ON operation)"
   ]
  },
  {
   "cell_type": "code",
   "execution_count": 31,
   "metadata": {},
   "outputs": [
    {
     "name": "stdout",
     "output_type": "stream",
     "text": [
      "Proposal 2: One M-M-1\n",
      "Queue system configuration: M/M, arrival rate: 436.28, service rate: 437.56, total 1 server(s).\n",
      "Is current queue tandem: False\n",
      "Utilization rate: 0.997\n",
      "Length of queue: 340.651, length of system: 341.648\n",
      "Time in queue: 0.781 years, time in system: 0.783 years\n",
      "------------------------------------------------------------------------------------------------------------\n"
     ]
    }
   ],
   "source": [
    "# One M/M/2 Server\n",
    "# Class discussion assumes that we are dealing with two uniform servers with processing rate = avg of two regions\n",
    "print('Proposal 2: One M-M-1')\n",
    "stg2 = queue(data.avg_patients.sum(), data.avg_donors.sum(), mode = 'M/M', c=1)\n",
    "stg2.verbose = 1\n",
    "stg2.get_params()"
   ]
  },
  {
   "cell_type": "markdown",
   "metadata": {},
   "source": [
    "## Strategy 3: Redistributed queue based on waiting time:"
   ]
  },
  {
   "cell_type": "code",
   "execution_count": 32,
   "metadata": {},
   "outputs": [
    {
     "name": "stdout",
     "output_type": "stream",
     "text": [
      "Calibrated donor supply to London: 109.34411535834458\n",
      "Calibrated donor supply to Toronto: 328.2168846416555\n"
     ]
    }
   ],
   "source": [
    "# Weighting calculation: \n",
    "total_demand = data.avg_patients.sum()\n",
    "total_supply = data.avg_donors.sum()\n",
    "weighted_london_supply = (data.avg_patients.london / total_demand ) * total_supply\n",
    "weighted_trt_supply = (data.avg_patients.toronto / total_demand ) * total_supply\n",
    "\n",
    "print(f'Calibrated donor supply to London: {weighted_london_supply}')\n",
    "print(f'Calibrated donor supply to Toronto: {weighted_trt_supply}')"
   ]
  },
  {
   "cell_type": "code",
   "execution_count": 33,
   "metadata": {},
   "outputs": [
    {
     "name": "stdout",
     "output_type": "stream",
     "text": [
      "Proposal 3: Western Ontario Region (London, ON)\n",
      "Queue system configuration: M/M, arrival rate: 109.03, service rate: 109.34, total 1 server(s).\n",
      "Is current queue tandem: False\n",
      "Utilization rate: 0.997\n",
      "Length of queue: 340.651, length of system: 341.648\n",
      "Time in queue: 3.125 years, time in system: 3.134 years\n",
      "------------------------------------------------------------------------------------------------------------\n",
      "Proposal 3: Western Ontario Region (Toronto, ON)\n",
      "Queue system configuration: M/M, arrival rate: 327.26, service rate: 328.22, total 1 server(s).\n",
      "Is current queue tandem: False\n",
      "Utilization rate: 0.997\n",
      "Length of queue: 340.651, length of system: 341.648\n",
      "Time in queue: 1.041 years, time in system: 1.044 years\n",
      "------------------------------------------------------------------------------------------------------------\n"
     ]
    }
   ],
   "source": [
    "# London\n",
    "print('Proposal 3: Western Ontario Region (London, ON)')\n",
    "stg3l = queue(data.avg_patients.london, weighted_london_supply, mode = 'M/M', c=1)\n",
    "stg3l.verbose = 1\n",
    "stg3l.get_params()\n",
    "# Toronto\n",
    "print('Proposal 3: Western Ontario Region (Toronto, ON)')\n",
    "stg3t = queue(data.avg_patients.toronto, weighted_trt_supply, mode = 'M/M', c=1)\n",
    "stg3t.verbose = 1\n",
    "stg3t.get_params()"
   ]
  },
  {
   "cell_type": "markdown",
   "metadata": {},
   "source": [
    "# Q3: Simulation"
   ]
  },
  {
   "cell_type": "markdown",
   "metadata": {},
   "source": [
    "### Strategy 1 simulation: "
   ]
  },
  {
   "cell_type": "code",
   "execution_count": 66,
   "metadata": {},
   "outputs": [
    {
     "name": "stdout",
     "output_type": "stream",
     "text": [
      "exponential Simulation result: \n",
      "Time in queue: 0.429, time in system: 0.433\n",
      "Server utilization rate: [0.996, 0.995]\n",
      "------------------------------------------------------------------------------------------------------------\n"
     ]
    },
    {
     "ename": "ValueError",
     "evalue": "gamma discrete simulation cannot be initiated under the current instance. Queue system must be created with G/G mode.",
     "output_type": "error",
     "traceback": [
      "\u001b[0;31m---------------------------------------------------------------------------\u001b[0m",
      "\u001b[0;31mValueError\u001b[0m                                Traceback (most recent call last)",
      "Cell \u001b[0;32mIn[66], line 10\u001b[0m\n\u001b[1;32m      7\u001b[0m stg1\u001b[38;5;241m.\u001b[39mget_sim_params()\n\u001b[1;32m      9\u001b[0m \u001b[38;5;66;03m# Note that current strategy 1 is set up as a M/M/2 system, which can't be simulated under gamma distribution:\u001b[39;00m\n\u001b[0;32m---> 10\u001b[0m \u001b[43mstg1\u001b[49m\u001b[38;5;241;43m.\u001b[39;49m\u001b[43mdiscrete_sim_gamma\u001b[49m\u001b[43m(\u001b[49m\u001b[38;5;241;43m20\u001b[39;49m\u001b[43m)\u001b[49m \u001b[38;5;66;03m# This will raise a ValueError()\u001b[39;00m\n",
      "Cell \u001b[0;32mIn[27], line 123\u001b[0m, in \u001b[0;36mqueue.discrete_sim_gamma\u001b[0;34m(self, seed)\u001b[0m\n\u001b[1;32m    121\u001b[0m \u001b[38;5;66;03m# Check for queue instance mode: \u001b[39;00m\n\u001b[1;32m    122\u001b[0m \u001b[38;5;28;01mif\u001b[39;00m \u001b[38;5;28mself\u001b[39m\u001b[38;5;241m.\u001b[39mmode \u001b[38;5;241m!=\u001b[39m \u001b[38;5;124m'\u001b[39m\u001b[38;5;124mG/G\u001b[39m\u001b[38;5;124m'\u001b[39m:\n\u001b[0;32m--> 123\u001b[0m     \u001b[38;5;28;01mraise\u001b[39;00m \u001b[38;5;167;01mValueError\u001b[39;00m(\u001b[38;5;124m'\u001b[39m\u001b[38;5;124mgamma discrete simulation cannot be initiated under the current instance. Queue system must be created with G/G mode.\u001b[39m\u001b[38;5;124m'\u001b[39m)\n\u001b[1;32m    124\u001b[0m \u001b[38;5;66;03m# Calculate gamma distribution parameters:\u001b[39;00m\n\u001b[1;32m    125\u001b[0m \u001b[38;5;66;03m#### Arrival: \u001b[39;00m\n\u001b[1;32m    126\u001b[0m \u001b[38;5;28mself\u001b[39m\u001b[38;5;241m.\u001b[39malpha_arrival \u001b[38;5;241m=\u001b[39m (\u001b[38;5;241m1\u001b[39m\u001b[38;5;241m/\u001b[39m\u001b[38;5;28mself\u001b[39m\u001b[38;5;241m.\u001b[39mcva)\u001b[38;5;241m*\u001b[39m\u001b[38;5;241m*\u001b[39m\u001b[38;5;241m2\u001b[39m\n",
      "\u001b[0;31mValueError\u001b[0m: gamma discrete simulation cannot be initiated under the current instance. Queue system must be created with G/G mode."
     ]
    }
   ],
   "source": [
    "# Strategy 1 system has already be defined in Q2 - as a class instance named stg1\n",
    "# Create a new simulation session with seed = 20\n",
    "stg1.discrete_sim_exp(20)\n",
    "# Run simulation until 20000 patients have received transplant\n",
    "stg1.get_sim_record(stop_criteria='customer', stop_count=200000)\n",
    "# Get performance parameters: \n",
    "stg1.get_sim_params()\n",
    "\n",
    "# Note that current strategy 1 is set up as a M/M/2 system, which can't be simulated under gamma distribution:\n",
    "stg1.discrete_sim_gamma(20) # This will raise a ValueError()"
   ]
  },
  {
   "cell_type": "markdown",
   "metadata": {},
   "source": [
    "### Check when strategy 1 simulation will reach steady state:"
   ]
  },
  {
   "cell_type": "code",
   "execution_count": 67,
   "metadata": {},
   "outputs": [
    {
     "name": "stderr",
     "output_type": "stream",
     "text": [
      "Iterating day scenarios..:   0%|          | 0/55 [00:00<?, ?it/s]"
     ]
    },
    {
     "name": "stderr",
     "output_type": "stream",
     "text": [
      "Iterating day scenarios..: 100%|██████████| 55/55 [00:37<00:00,  1.46it/s]\n"
     ]
    },
    {
     "data": {
      "image/png": "[encoded data removed]",
      "text/plain": [
       "<Figure size 1200x400 with 1 Axes>"
      ]
     },
     "metadata": {},
     "output_type": "display_data"
    }
   ],
   "source": [
    "stg1.get_steady_state(2, 2, 55)"
   ]
  },
  {
   "cell_type": "markdown",
   "metadata": {},
   "source": [
    "### Strategy 1 (under G/G/2) simulation: "
   ]
  },
  {
   "cell_type": "code",
   "execution_count": 53,
   "metadata": {},
   "outputs": [
    {
     "name": "stdout",
     "output_type": "stream",
     "text": [
      "Queue system configuration: G/G, arrival rate: 436.28, service rate: 218.78, total 2 server(s).\n",
      "Is current queue tandem: False\n",
      "Utilization rate: 0.997\n",
      "Length of queue: 340.203, length of system: 342.197\n",
      "Time in queue: 0.780 years, time in system: 0.784 years\n",
      "------------------------------------------------------------------------------------------------------------\n"
     ]
    },
    {
     "name": "stderr",
     "output_type": "stream",
     "text": [
      "  0%|          | 0/200000 [00:00<?, ?it/s]"
     ]
    },
    {
     "name": "stderr",
     "output_type": "stream",
     "text": [
      "100%|██████████| 200000/200000 [00:14<00:00, 14110.35it/s]\n"
     ]
    },
    {
     "name": "stdout",
     "output_type": "stream",
     "text": [
      "exponential Simulation result: \n",
      "Time in queue: 0.429, time in system: 0.433\n",
      "Server utilization rate: [0.996, 0.995]\n",
      "------------------------------------------------------------------------------------------------------------\n"
     ]
    }
   ],
   "source": [
    "# Create a new G/G/2 queue system where the CV for both patients and donors per year is 1: \n",
    "stg1_r = queue(data.avg_patients.sum(), data.avg_donors.mean(), mode = \"G/G\", c=2, cv_a=1, cv_s=1)\n",
    "stg1_r.verbose = 1\n",
    "# Get params again: \n",
    "stg1_r.get_params()\n",
    "# Get simulations again: \n",
    "stg1_r.discrete_sim_exp(20)\n",
    "stg1_r.get_sim_record(stop_criteria='customer', stop_count=200000)\n",
    "stg1_r.get_sim_params()\n"
   ]
  },
  {
   "cell_type": "markdown",
   "metadata": {},
   "source": [
    "# QA Cases"
   ]
  },
  {
   "cell_type": "markdown",
   "metadata": {},
   "source": [
    "### Scenario 1: Starbucks (Dedicated Queues with Two Servers) - Two M/M/1 "
   ]
  },
  {
   "cell_type": "code",
   "execution_count": 12,
   "metadata": {},
   "outputs": [
    {
     "name": "stdout",
     "output_type": "stream",
     "text": [
      "Queue system configuration: M/M, arrival rate: 47.50, service rate: 50.00, total 1 server(s).\n",
      "Is current queue tandem: False\n",
      "Utilization rate: 0.950\n",
      "Length of queue: 18.050, length of system: 19.000\n",
      "Time in queue: 0.380 years, time in system: 0.400 years\n",
      "------------------------------------------------------------------------------------------------------------\n"
     ]
    }
   ],
   "source": [
    "lbda1 = 95/2  #arrival rate\n",
    "avg1 = 50    # service rate \n",
    "\n",
    "test = queue(lbda1, avg1, c=1, mode='M/M')\n",
    "test.verbose = 1\n",
    "test.get_params()\n"
   ]
  },
  {
   "cell_type": "markdown",
   "metadata": {},
   "source": [
    "### Scenario 2: Starbucks (Combined Queues) - M/M/2"
   ]
  },
  {
   "cell_type": "code",
   "execution_count": 13,
   "metadata": {},
   "outputs": [
    {
     "name": "stdout",
     "output_type": "stream",
     "text": [
      "Queue system configuration: M/M, arrival rate: 95.00, service rate: 50.00, total 2 server(s).\n",
      "Is current queue tandem: False\n",
      "Utilization rate: 0.950\n",
      "Length of queue: 17.587, length of system: 19.487\n",
      "Time in queue: 0.185 years, time in system: 0.205 years\n",
      "------------------------------------------------------------------------------------------------------------\n"
     ]
    }
   ],
   "source": [
    "lbda2 = 95  #arrival rate\n",
    "avg2 = 50    # service rate \n",
    "\n",
    "test = queue(lbda2, avg2, c=2, mode='M/M')\n",
    "test.verbose = 1\n",
    "test.get_params()"
   ]
  },
  {
   "cell_type": "markdown",
   "metadata": {},
   "source": [
    "### Scenario 3: Starbucks (Tamdem Queues)"
   ]
  },
  {
   "cell_type": "code",
   "execution_count": 14,
   "metadata": {},
   "outputs": [
    {
     "name": "stdout",
     "output_type": "stream",
     "text": [
      "Queue system configuration: M/M, arrival rate: 95.00, service rate: 100.00, total 1 server(s).\n",
      "Is current queue tandem: True\n",
      "Utilization rate: 0.950\n",
      "Length of queue: 18.050, length of system: 19.000\n",
      "Time in queue: 0.380 years, time in system: 0.400 years\n",
      "------------------------------------------------------------------------------------------------------------\n"
     ]
    }
   ],
   "source": [
    "lbda3 = 95  #arrival rate\n",
    "avg3 = 100  # service rate \n",
    "\n",
    "test = queue(lbda3, avg3, c=1, mode='M/M', tandem_queue=True)\n",
    "test.verbose = 1\n",
    "test.get_params()"
   ]
  },
  {
   "cell_type": "markdown",
   "metadata": {},
   "source": [
    "### Scenario 4: Starbucks (Tamdem Queues, with improvements)"
   ]
  },
  {
   "cell_type": "code",
   "execution_count": 15,
   "metadata": {},
   "outputs": [
    {
     "name": "stdout",
     "output_type": "stream",
     "text": [
      "Queue system configuration: M/M, arrival rate: 95.00, service rate: 105.00, total 1 server(s).\n",
      "Is current queue tandem: True\n",
      "Utilization rate: 0.905\n",
      "Length of queue: 8.595, length of system: 9.500\n",
      "Time in queue: 0.181 years, time in system: 0.200 years\n",
      "------------------------------------------------------------------------------------------------------------\n"
     ]
    }
   ],
   "source": [
    "lbda3 = 95  #arrival rate\n",
    "avg3 = 105  # service rate \n",
    "\n",
    "test = queue(lbda3, avg3, c=1, mode='M/M', tandem_queue=True)\n",
    "test.verbose = 1\n",
    "test.get_params()"
   ]
  }
 ],
 "metadata": {
  "kernelspec": {
   "display_name": "ann_env",
   "language": "python",
   "name": "python3"
  },
  "language_info": {
   "codemirror_mode": {
    "name": "ipython",
    "version": 3
   },
   "file_extension": ".py",
   "mimetype": "text/x-python",
   "name": "python",
   "nbconvert_exporter": "python",
   "pygments_lexer": "ipython3",
   "version": "3.10.13"
  }
 },
 "nbformat": 4,
 "nbformat_minor": 2
}
