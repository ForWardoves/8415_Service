{
 "cells": [
  {
   "cell_type": "code",
   "execution_count": 2,
   "metadata": {},
   "outputs": [
    {
     "name": "stderr",
     "output_type": "stream",
     "text": [
      "/var/folders/y7/c980x4qd7flfptjj2fjrnn0r0000gn/T/ipykernel_47595/883676184.py:6: TqdmWarning: IProgress not found. Please update jupyter and ipywidgets. See https://ipywidgets.readthedocs.io/en/stable/user_install.html\n",
      "  from tqdm.autonotebook import tqdm\n"
     ]
    }
   ],
   "source": [
    "import math\n",
    "import ciw\n",
    "import pandas as pd\n",
    "import numpy as np\n",
    "import matplotlib.pyplot as plt\n",
    "from tqdm.autonotebook import tqdm\n",
    "import random as rand\n",
    "from IPython.display import clear_output"
   ]
  },
  {
   "cell_type": "code",
   "execution_count": 7,
   "metadata": {},
   "outputs": [],
   "source": [
    "class queue:\n",
    "    '''\n",
    "    A queue system class. \n",
    "    '''\n",
    "    def __init__(self, lbda: float, mu: float, c: float, mode = str, tandem_queue: bool = False,\n",
    "                cv_a: float = None,  cv_s: float = None, unit: str = 'years'): \n",
    "        '''\n",
    "        Initialize necessary parameter for a new queue system class.\n",
    "        \\n==INPUT==\n",
    "        `lbda`: `float`\n",
    "            𝜆: Arrival Rate\n",
    "        `mu`: `float`\n",
    "            µ: Service Rate\n",
    "        `c`: `float`\n",
    "            Number of servers\n",
    "        `mode`: `str`\n",
    "            Queue system configuration\n",
    "        `tandem_queue`: `bool`, default `False`\n",
    "            Whether the servers are sequentially aligned where a user must finish one queue before joining another. \n",
    "        `cv_a`, `cv_s`: `float`, default `None`\n",
    "            Exclusive for `mode = 'G/G'. Coefficient of variation for arrival rate and service rate.\n",
    "        `unit`: `str`, default `years`\n",
    "            Unit for annotation usage only. \n",
    "        '''\n",
    "        # Input check and conditional properties\n",
    "        self.mode = mode\n",
    "        if self.mode not in ['M/M', 'G/G']:\n",
    "            raise ValueError(f'{mode} queue system not currently supported. Queue system can be either \"M/M\" or \"G/G\". ')\n",
    "        elif self.mode == 'G/G':\n",
    "            if cv_s is None or cv_a is None: \n",
    "                raise ValueError ('Coefficient of Variations cv_s and cv_s must not be none when mode is G/G')\n",
    "            else: \n",
    "                self.cvs = cv_s\n",
    "                self.cva = cv_a\n",
    "        # Universal properties\n",
    "        self.lbda = lbda\n",
    "        self.mu = mu\n",
    "        self.c = c\n",
    "        self.tandem = tandem_queue\n",
    "        self.verbose = 0\n",
    "        self.unit = unit\n",
    "\n",
    "    def factorial(self, x):\n",
    "        if (x == 1) or (x==0):\n",
    "            return 1\n",
    "        else:\n",
    "            # recursive call to the function\n",
    "            return (x * self.factorial(x-1)) \n",
    "\n",
    "    def user_defined_sum(self, c,rho):\n",
    "        sum = 0\n",
    "        for n in range(c):\n",
    "            sum += (c*rho)**n/self.factorial(n) \n",
    "\n",
    "        return 1/(sum + (c*rho)**c/(self.factorial(c)*(1-rho)))\n",
    "\n",
    "    def get_params(self):\n",
    "        '''\n",
    "        Get the estimated steady state params of the new queue system using steady state analytical formulas. \n",
    "        '''\n",
    "        if self.mode == 'M/M': \n",
    "            self.rho = self.lbda/(self.c * self.mu)                       # Utilization rate\n",
    "            self.p0 = self.user_defined_sum(self.c, self.rho)             # Empty queue probability\n",
    "            self.lq = (self.c * self.rho) ** self.c * self.p0 * self.rho\\\n",
    "                    / (self.factorial(self.c) * (1-self.rho)**2)          # Length of queue\n",
    "            self.l = self.lq + self.lbda/self.mu                          # Length of system\n",
    "            self.wq = self.lq / self.lbda                                 # time in queue\n",
    "            self.w = self.l / self.lbda                                   # time in system\n",
    "        elif self.mode == 'G/G': \n",
    "            # Only in G-G Model: \n",
    "            self.s = 1 / self.mu # Average service time\n",
    "            self.a = 1 / self.lbda # Inter-arrival time\n",
    "            self.cvai = 1 / self.cva # CV of inter-arrival time\n",
    "            self.cvsi = 1 / self.cvs # CV of service time\n",
    "            # Other features: \n",
    "            self.rho = self.s / (self.c * self.a)          # Utilization rate\n",
    "            self.wq = self.s / self.c * (self.cvai**2 + self.cvsi**2)/2 * self.rho ** (-1+math.sqrt(2*(self.c+1)))/(1-self.rho) # Time in queue\n",
    "            self.w = self.wq + self.s # time in system\n",
    "            self.lq = self.wq * self.lbda # length of queue\n",
    "            self.l = self.w * self.lbda # length of system\n",
    "        if self.tandem == True: \n",
    "            self.wq = self.wq * 2\n",
    "            self.w = self.w * 2\n",
    "\n",
    "        if self.verbose ==1: \n",
    "            print(f'Queue system configuration: {self.mode}, arrival rate: {self.lbda:.2f}, service rate: {self.mu:.2f}, total {self.c} server(s).')\n",
    "            print(f'Is current queue tandem: {self.tandem}')\n",
    "            print(f'Utilization rate: {self.rho:.3f}')\n",
    "            print(f'Length of queue: {self.lq:.3f}, length of system: {self.l:.3f}')\n",
    "            print(f'Time in queue: {self.wq:.3f} {self.unit}, time in system: {self.w:.3f} {self.unit}')\n",
    "            print('------------------------------------------------------------------------------------------------------------')\n",
    "    \n",
    "    def discrete_sim_exp(self, seed:int = 0): \n",
    "        '''\n",
    "        Create a discrete event simulation (`self.sim`) using the given network with exponential simulation on both arrival and service distributions.\n",
    "        \\r Note that this will overwrite any previously-establish `self.sim` instances. \n",
    "        \\n==INPUT==\n",
    "        `seed`: `int`, default `0`\n",
    "            Random state seed to be passed to `ciw.seed()`\n",
    "        '''\n",
    "        # Define simulation network: \n",
    "        N = ciw.create_network(\n",
    "            arrival_distributions=[ciw.dists.Exponential(rate=self.lbda)],\n",
    "            service_distributions=[ciw.dists.Exponential(rate=self.mu)],\n",
    "            number_of_servers=[self.c])\n",
    "        ciw.seed(seed)\n",
    "        # Set up simulation:\n",
    "        Q = ciw.Simulation(N, tracker=ciw.trackers.SystemPopulation())\n",
    "        self.sim = Q\n",
    "        self.sim_type = 'exponential'\n",
    "    \n",
    "    def discrete_sim_gamma(self, seed:int = 0): \n",
    "        '''\n",
    "        Create a discrete event simulation (`self.sim`) using the given network with gamma simulation on both arrival and service distributions. \n",
    "        \\r Note that this will overwrite any previously-establish `self.sim` instances. \n",
    "            \\r **Only works for G/G/c queue instance!**\n",
    "        \\n==INPUT==\n",
    "        `seed`: `int`, default `0`\n",
    "            Random state seed to be passed to `ciw.seed()`\n",
    "        '''\n",
    "        # Check for queue instance mode: \n",
    "        if self.mode != 'G/G':\n",
    "            raise ValueError('gamma discrete simulation cannot be initiated under the current instance. Queue system must be created with G/G mode.')\n",
    "        # Calculate gamma distribution parameters:\n",
    "        #### Arrival: \n",
    "        self.alpha_arrival = (1/self.cva)**2\n",
    "        self.beta_arrival = self.alpha_arrival / self.lbda\n",
    "        #### Service:\n",
    "        self.alpha_service = (1/self.cvs)**2\n",
    "        self.beta_service = self.alpha_service / self.mu\n",
    "        # Define simulation network: \n",
    "        N = ciw.create_network(\n",
    "            arrival_distributions=[ciw.dists.Gamma(shape = self.alpha_arrival, scale = self.beta_arrival)],\n",
    "            service_distributions=[ciw.dists.Gamma(shape = self.alpha_service, scale = self.beta_service)],\n",
    "            number_of_servers=[self.c])\n",
    "        ciw.seed(seed)\n",
    "        # Set up simulation:\n",
    "        Q = ciw.Simulation(N, tracker=ciw.trackers.SystemPopulation())\n",
    "        self.sim = Q\n",
    "        self.sim_type = 'gamma'\n",
    "    \n",
    "    def get_sim_record(self, stop_criteria: str = 'customer', stop_count: int = 100000): \n",
    "        '''\n",
    "        Run `self.sim` for one time and generate event records `self.sim_record`.\n",
    "        \\n==INPUT==\n",
    "        `stop_criteria`: `str`, default `customer`\n",
    "            Simulation stop criteria. Can be:\n",
    "            \\t > `customer` (stopped when `stop_count` number of customers has reached the exit node)\n",
    "            \\r \\t > `time` (stop when simulation time has reached `stop_count`)\n",
    "        `stop_count`: `int`, default `100000`\n",
    "            Quantity threshold of stop criteria.\n",
    "        '''\n",
    "        # Run simulation:\n",
    "        if stop_criteria == 'customer':\n",
    "            self.sim.simulate_until_max_customers(stop_count, progress_bar=True)\n",
    "        elif stop_criteria == 'time': \n",
    "            self.sim.simulate_until_max_time(stop_count, progress_bar=True)\n",
    "        else: \n",
    "            raise ValueError('Stop criteria must be either \"customer\" or \"time\". ')\n",
    "        # Fetch simulation records\n",
    "        recs = self.sim.get_all_records()\n",
    "        df = pd.DataFrame(recs)\n",
    "        df.sort_values(by='arrival_date',inplace=True)\n",
    "        df['inter_arrival'] = df.arrival_date - df.arrival_date.shift(1,fill_value=0)\n",
    "        df['system_time'] = df.exit_date - df.arrival_date\n",
    "        df = df[['id_number',\n",
    "                 'server_id',\n",
    "                 'arrival_date',\n",
    "                 'waiting_time',\n",
    "                 'system_time',\n",
    "                 'service_start_date',\n",
    "                 'server_id',\n",
    "                 'service_time',\n",
    "                 'service_end_date',\n",
    "                 'exit_date',\n",
    "                 'queue_size_at_arrival',\n",
    "                 'queue_size_at_departure']]\n",
    "        # Upload to class instance: \n",
    "        self.sim_record = df\n",
    "    \n",
    "    def get_sim_params(self, df:pd.DataFrame = None): \n",
    "        '''\n",
    "        Print out calculate necessary simulation params.\n",
    "        \\nGenerate the following quantities: \n",
    "        \\n > `self.sim_wq` Average time in queue; \n",
    "        \\n > `self.sim_w` Average time; \n",
    "        \\n > `self.sim_util_rate` Average utilization rate of all servers.\n",
    "        '''\n",
    "        if df is None: \n",
    "            df = self.sim_record\n",
    "            self.sim_wq = round(df['waiting_time'].mean(),3)\n",
    "            self.sim_w = round(df['system_time'].mean(),3)\n",
    "            self.sim_util_rate = [srv.utilisation for srv in self.sim.nodes[1].servers]\n",
    "        else: \n",
    "            # Only used for map_wait_time\n",
    "            sim_wq = round(df['waiting_time'].mean(),3)\n",
    "            return sim_wq\n",
    "        if self.verbose == 1: \n",
    "            print(f'{self.sim_type} Simulation result: ')\n",
    "            print(f'Time in queue: {self.sim_wq:.3f} {self.unit}, time in system: {self.sim_w:.3f} {self.unit}')\n",
    "            print(f'Server utilization rate: {[round(rate,3) for rate in self.sim_util_rate]}')\n",
    "            print('------------------------------------------------------------------------------------------------------------')\n",
    "    \n",
    "    def get_steady_state(self, start_sim_time: int, sim_time_increments:int, steps: int, \n",
    "                          plot:bool = True, show_plot:bool = True):\n",
    "        '''\n",
    "        Used to find the minimal simulation time to reach steady state in terms of average wait time.\n",
    "        \\n==INPUT==\n",
    "        `start_sim_time`: `int`\n",
    "            Simulation time to start the iteration from\n",
    "        `sim_time_increments`: `int`\n",
    "            Increment in simulation time per iteration\n",
    "        `steps`: `int`\n",
    "            Number of iterations\n",
    "        `plot`: `bool`, default `True`\n",
    "            Whether to plot the result as a wait_time vs. simulation time chart (stored as `self.sim_steady_state_plot`)\n",
    "        `show_plot`: bool, default `True`\n",
    "            Whether to show `self.sim_steady_state_plot` immediately after this method\n",
    "        '''\n",
    "        self.sim_avg_queue_time = {}\n",
    "        for time in tqdm(np.arange(start_sim_time, sim_time_increments*steps+start_sim_time, sim_time_increments), desc = 'Iterating day scenarios..', total=steps):\n",
    "            self.sim.simulate_until_max_time(time)\n",
    "            recs = self.sim.get_all_records()\n",
    "            mwp_df = pd.DataFrame(recs)\n",
    "            wait_time = self.get_sim_params(df=mwp_df)\n",
    "            self.sim_avg_queue_time[time] = wait_time\n",
    "        if plot is True:\n",
    "            fig,ax = plt.subplots(figsize=(12,4))\n",
    "            ax.plot(list(self.sim_avg_queue_time.keys()), list(self.sim_avg_queue_time.values()))\n",
    "            ax.set_ylabel(\"Average Wait Time \", fontsize=14)\n",
    "            ax.set_xlabel(f\"Simultion Stop Time ({self.unit})\", fontsize=14)\n",
    "            self.sim_steady_state_plot = fig\n",
    "            #plt.legend(bbox_to_anchor=(1.6, .5))\n",
    "            plt.title(f'Steady State Behavior of Avg. Wait Time - sim under {self.sim_type} dist.')\n",
    "            if show_plot is True:\n",
    "                plt.show() \n",
    "    \n",
    "    def multi_seed_sim(self, seed: list[int], sim_mode: str = 'gamma', stop_criteria: str = 'customer', stop_count: int = 100000):\n",
    "        '''\n",
    "        Multi-seed simulation: Ran discrete simulation under a list of different seeds.\n",
    "        \\n==INPUT==\n",
    "        `seed`: `list` of `int`\n",
    "            List of seeds\n",
    "        `sim_mode`: `str`\n",
    "            Distribution to run the simulation with, must be `exponential` or `gamma`\n",
    "        `stop_criteria`: `str`, default `customer`\n",
    "            Simulation stop criteria. Can be:\n",
    "            \\t > `customer` (stopped when `stop_count` number of customers has reached the exit node)\n",
    "            \\r \\t > `time` (stop when simulation time has reached `stop_count`)\n",
    "        `stop_count`: `int`, default `100000`\n",
    "            Quantity threshold of stop criteria.\n",
    "        \\n==OUTPUT==\n",
    "        `self.multi_seed_result`: `pd.DataFrame`\n",
    "            DataFrame with system time, queue time and utilization rate of all simulation runs\n",
    "        '''\n",
    "        wip_data = {}\n",
    "        for s in tqdm(seed, desc='Iterating seeds...', total=len(seed), colour='red'): \n",
    "            if sim_mode == 'exponential':\n",
    "                self.discrete_sim_exp(seed=s)\n",
    "            elif sim_mode == 'gamma': \n",
    "                self.discrete_sim_exp(seed=s)\n",
    "            else: \n",
    "                raise ValueError(f'{sim_mode} not currently supported. Must be exponential or gamma. ')\n",
    "            self.get_sim_record(stop_criteria, stop_count)\n",
    "            self.get_sim_params()\n",
    "            sys_time = self.sim_w\n",
    "            que_time = self.sim_wq\n",
    "            utilization = self.sim_util_rate\n",
    "            wip_data[s] = {'system_time': sys_time, 'queue_time': que_time, 'utilization': utilization}\n",
    "            clear_output()\n",
    "        self.multi_seed_result = pd.DataFrame(wip_data).T\n",
    "\n",
    "        return self.multi_seed_result\n",
    "        \n",
    "        "
   ]
  },
  {
   "cell_type": "markdown",
   "metadata": {},
   "source": [
    "# Q1: Current operational status"
   ]
  },
  {
   "cell_type": "code",
   "execution_count": 12,
   "metadata": {},
   "outputs": [
    {
     "data": {
      "text/html": [
       "<div>\n",
       "<style scoped>\n",
       "    .dataframe tbody tr th:only-of-type {\n",
       "        vertical-align: middle;\n",
       "    }\n",
       "\n",
       "    .dataframe tbody tr th {\n",
       "        vertical-align: top;\n",
       "    }\n",
       "\n",
       "    .dataframe thead th {\n",
       "        text-align: right;\n",
       "    }\n",
       "</style>\n",
       "<table border=\"1\" class=\"dataframe\">\n",
       "  <thead>\n",
       "    <tr style=\"text-align: right;\">\n",
       "      <th></th>\n",
       "      <th>avg_patients</th>\n",
       "      <th>avg_donors</th>\n",
       "    </tr>\n",
       "    <tr>\n",
       "      <th>daily_rate</th>\n",
       "      <th></th>\n",
       "      <th></th>\n",
       "    </tr>\n",
       "  </thead>\n",
       "  <tbody>\n",
       "    <tr>\n",
       "      <th>london</th>\n",
       "      <td>0.298699</td>\n",
       "      <td>0.301499</td>\n",
       "    </tr>\n",
       "    <tr>\n",
       "      <th>toronto</th>\n",
       "      <td>0.896600</td>\n",
       "      <td>0.897299</td>\n",
       "    </tr>\n",
       "  </tbody>\n",
       "</table>\n",
       "</div>"
      ],
      "text/plain": [
       "            avg_patients  avg_donors\n",
       "daily_rate                          \n",
       "london          0.298699    0.301499\n",
       "toronto         0.896600    0.897299"
      ]
     },
     "execution_count": 12,
     "metadata": {},
     "output_type": "execute_result"
    }
   ],
   "source": [
    "raw_data = {'london': {'avg_patients': 109.025, 'avg_donors': 110.047}, 'toronto': {'avg_patients': 327.259, 'avg_donors': 327.514}}\n",
    "data = pd.DataFrame(raw_data).div(365)\n",
    "data.columns.name = 'daily_rate'\n",
    "unit = 'days'\n",
    "data = data.T\n",
    "data"
   ]
  },
  {
   "cell_type": "code",
   "execution_count": 13,
   "metadata": {},
   "outputs": [
    {
     "name": "stdout",
     "output_type": "stream",
     "text": [
      "Current Operational Status: Western Ontario Region (London, ON)\n",
      "Queue system configuration: M/M, arrival rate: 0.30, service rate: 0.30, total 1 server(s).\n",
      "Is current queue tandem: False\n",
      "Utilization rate: 0.991\n",
      "Length of queue: 105.687, length of system: 106.678\n",
      "Time in queue: 353.826 days, time in system: 357.143 days\n",
      "------------------------------------------------------------------------------------------------------------\n",
      "Current Operational Status: Western Ontario Region (Toronto, ON)\n",
      "Queue system configuration: M/M, arrival rate: 0.90, service rate: 0.90, total 1 server(s).\n",
      "Is current queue tandem: False\n",
      "Utilization rate: 0.999\n",
      "Length of queue: 1282.369, length of system: 1283.369\n",
      "Time in queue: 1430.258 days, time in system: 1431.373 days\n",
      "------------------------------------------------------------------------------------------------------------\n"
     ]
    }
   ],
   "source": [
    "# Class discussion assumes\n",
    "# London\n",
    "print('Current Operational Status: Western Ontario Region (London, ON)')\n",
    "current = queue(data.avg_patients.london, data.avg_donors.london, mode = 'M/M', c=1, unit=unit)\n",
    "current.verbose = 1\n",
    "current.get_params()\n",
    "# Toronto\n",
    "print('Current Operational Status: Western Ontario Region (Toronto, ON)')\n",
    "current = queue(data.avg_patients.toronto, data.avg_donors.toronto, mode = 'M/M', c=1, unit=unit)\n",
    "current.verbose = 1\n",
    "current.get_params()"
   ]
  },
  {
   "cell_type": "markdown",
   "metadata": {},
   "source": [
    "# Q2: Proposed merge strategies"
   ]
  },
  {
   "cell_type": "markdown",
   "metadata": {},
   "source": [
    "## Strategy 1: Merged queue with FIFO Service. "
   ]
  },
  {
   "cell_type": "code",
   "execution_count": 14,
   "metadata": {},
   "outputs": [
    {
     "name": "stdout",
     "output_type": "stream",
     "text": [
      "Proposal 1: One M-M-2\n",
      "Queue system configuration: M/M, arrival rate: 1.20, service rate: 0.60, total 2 server(s).\n",
      "Is current queue tandem: False\n",
      "Utilization rate: 0.997\n",
      "Length of queue: 340.153, length of system: 342.147\n",
      "Time in queue: 284.576 days, time in system: 286.244 days\n",
      "------------------------------------------------------------------------------------------------------------\n"
     ]
    }
   ],
   "source": [
    "# One M/M/2 Server\n",
    "# Class discussion assumes that we are dealing with two uniform servers with processing rate = avg of two regions\n",
    "print('Proposal 1: One M-M-2')\n",
    "stg1 = queue(data.avg_patients.sum(), data.avg_donors.mean(), mode = 'M/M', c=2, unit=unit)\n",
    "stg1.verbose = 1 #queue.verbose MUST =1 for you to have printed logs\n",
    "stg1.get_params()"
   ]
  },
  {
   "cell_type": "markdown",
   "metadata": {},
   "source": [
    "## Strategy 2: Merged queue AND donor pool with FIFO Service (consolidate ON operation)"
   ]
  },
  {
   "cell_type": "code",
   "execution_count": 15,
   "metadata": {},
   "outputs": [
    {
     "name": "stdout",
     "output_type": "stream",
     "text": [
      "Proposal 2: One M-M-1\n",
      "Queue system configuration: M/M, arrival rate: 1.20, service rate: 1.20, total 1 server(s).\n",
      "Is current queue tandem: False\n",
      "Utilization rate: 0.997\n",
      "Length of queue: 340.651, length of system: 341.648\n",
      "Time in queue: 284.992 days, time in system: 285.826 days\n",
      "------------------------------------------------------------------------------------------------------------\n"
     ]
    }
   ],
   "source": [
    "# One M/M/2 Server\n",
    "# Class discussion assumes that we are dealing with two uniform servers with processing rate = avg of two regions\n",
    "print('Proposal 2: One M-M-1')\n",
    "stg2 = queue(data.avg_patients.sum(), data.avg_donors.sum(), mode = 'M/M', c=1, unit=unit)\n",
    "stg2.verbose = 1\n",
    "stg2.get_params()"
   ]
  },
  {
   "cell_type": "markdown",
   "metadata": {},
   "source": [
    "## Strategy 3: Redistributed queue based on waiting time:"
   ]
  },
  {
   "cell_type": "code",
   "execution_count": 16,
   "metadata": {},
   "outputs": [
    {
     "name": "stdout",
     "output_type": "stream",
     "text": [
      "Calibrated donor supply to London: 0.2995729187899851\n",
      "Calibrated donor supply to Toronto: 0.8992243414839874\n"
     ]
    }
   ],
   "source": [
    "# Weighting calculation: \n",
    "total_demand = data.avg_patients.sum()\n",
    "total_supply = data.avg_donors.sum()\n",
    "weighted_london_supply = (data.avg_patients.london / total_demand ) * total_supply\n",
    "weighted_trt_supply = (data.avg_patients.toronto / total_demand ) * total_supply\n",
    "\n",
    "print(f'Calibrated donor supply to London: {weighted_london_supply}')\n",
    "print(f'Calibrated donor supply to Toronto: {weighted_trt_supply}')"
   ]
  },
  {
   "cell_type": "code",
   "execution_count": 18,
   "metadata": {},
   "outputs": [
    {
     "name": "stdout",
     "output_type": "stream",
     "text": [
      "Proposal 3: Western Ontario Region (London, ON)\n",
      "Queue system configuration: M/M, arrival rate: 0.30, service rate: 0.30, total 1 server(s).\n",
      "Is current queue tandem: False\n",
      "Utilization rate: 0.997\n",
      "Length of queue: 340.651, length of system: 341.648\n",
      "Time in queue: 1140.449 days, time in system: 1143.787 days\n",
      "------------------------------------------------------------------------------------------------------------\n",
      "Proposal 3: Western Ontario Region (Toronto, ON)\n",
      "Queue system configuration: M/M, arrival rate: 0.90, service rate: 0.90, total 1 server(s).\n",
      "Is current queue tandem: False\n",
      "Utilization rate: 0.997\n",
      "Length of queue: 340.651, length of system: 341.648\n",
      "Time in queue: 379.936 days, time in system: 381.048 days\n",
      "------------------------------------------------------------------------------------------------------------\n"
     ]
    }
   ],
   "source": [
    "# London\n",
    "print('Proposal 3: Western Ontario Region (London, ON)')\n",
    "stg3l = queue(data.avg_patients.london, weighted_london_supply, mode = 'M/M', c=1, unit=unit)\n",
    "stg3l.verbose = 1\n",
    "stg3l.get_params()\n",
    "# Toronto\n",
    "print('Proposal 3: Western Ontario Region (Toronto, ON)')\n",
    "stg3t = queue(data.avg_patients.toronto, weighted_trt_supply, mode = 'M/M', c=1, unit=unit)\n",
    "stg3t.verbose = 1\n",
    "stg3t.get_params()"
   ]
  },
  {
   "cell_type": "markdown",
   "metadata": {},
   "source": [
    "# Q3: Simulation"
   ]
  },
  {
   "cell_type": "markdown",
   "metadata": {},
   "source": [
    "### Strategy 1 simulation: "
   ]
  },
  {
   "cell_type": "code",
   "execution_count": 19,
   "metadata": {},
   "outputs": [
    {
     "name": "stderr",
     "output_type": "stream",
     "text": [
      "  0%|          | 0/182500 [00:00<?, ?it/s]"
     ]
    },
    {
     "name": "stderr",
     "output_type": "stream",
     "text": [
      "100%|██████████| 182500.0/182500 [00:14<00:00, 12704.25it/s]          \n"
     ]
    },
    {
     "name": "stdout",
     "output_type": "stream",
     "text": [
      "exponential Simulation result: \n",
      "Time in queue: 151.201 days, time in system: 152.872 days\n",
      "Server utilization rate: [0.996, 0.995]\n",
      "------------------------------------------------------------------------------------------------------------\n"
     ]
    },
    {
     "ename": "ValueError",
     "evalue": "gamma discrete simulation cannot be initiated under the current instance. Queue system must be created with G/G mode.",
     "output_type": "error",
     "traceback": [
      "\u001b[0;31m---------------------------------------------------------------------------\u001b[0m",
      "\u001b[0;31mValueError\u001b[0m                                Traceback (most recent call last)",
      "Cell \u001b[0;32mIn[19], line 10\u001b[0m\n\u001b[1;32m      7\u001b[0m stg1\u001b[38;5;241m.\u001b[39mget_sim_params()\n\u001b[1;32m      9\u001b[0m \u001b[38;5;66;03m# Note that current strategy 1 is set up as a M/M/2 system, which can't be simulated under gamma distribution:\u001b[39;00m\n\u001b[0;32m---> 10\u001b[0m \u001b[43mstg1\u001b[49m\u001b[38;5;241;43m.\u001b[39;49m\u001b[43mdiscrete_sim_gamma\u001b[49m\u001b[43m(\u001b[49m\u001b[38;5;241;43m20\u001b[39;49m\u001b[43m)\u001b[49m \u001b[38;5;66;03m# This will raise a ValueError()\u001b[39;00m\n",
      "Cell \u001b[0;32mIn[7], line 123\u001b[0m, in \u001b[0;36mqueue.discrete_sim_gamma\u001b[0;34m(self, seed)\u001b[0m\n\u001b[1;32m    121\u001b[0m \u001b[38;5;66;03m# Check for queue instance mode: \u001b[39;00m\n\u001b[1;32m    122\u001b[0m \u001b[38;5;28;01mif\u001b[39;00m \u001b[38;5;28mself\u001b[39m\u001b[38;5;241m.\u001b[39mmode \u001b[38;5;241m!=\u001b[39m \u001b[38;5;124m'\u001b[39m\u001b[38;5;124mG/G\u001b[39m\u001b[38;5;124m'\u001b[39m:\n\u001b[0;32m--> 123\u001b[0m     \u001b[38;5;28;01mraise\u001b[39;00m \u001b[38;5;167;01mValueError\u001b[39;00m(\u001b[38;5;124m'\u001b[39m\u001b[38;5;124mgamma discrete simulation cannot be initiated under the current instance. Queue system must be created with G/G mode.\u001b[39m\u001b[38;5;124m'\u001b[39m)\n\u001b[1;32m    124\u001b[0m \u001b[38;5;66;03m# Calculate gamma distribution parameters:\u001b[39;00m\n\u001b[1;32m    125\u001b[0m \u001b[38;5;66;03m#### Arrival: \u001b[39;00m\n\u001b[1;32m    126\u001b[0m \u001b[38;5;28mself\u001b[39m\u001b[38;5;241m.\u001b[39malpha_arrival \u001b[38;5;241m=\u001b[39m (\u001b[38;5;241m1\u001b[39m\u001b[38;5;241m/\u001b[39m\u001b[38;5;28mself\u001b[39m\u001b[38;5;241m.\u001b[39mcva)\u001b[38;5;241m*\u001b[39m\u001b[38;5;241m*\u001b[39m\u001b[38;5;241m2\u001b[39m\n",
      "\u001b[0;31mValueError\u001b[0m: gamma discrete simulation cannot be initiated under the current instance. Queue system must be created with G/G mode."
     ]
    }
   ],
   "source": [
    "# Strategy 1 system has already be defined in Q2 - as a class instance named stg1\n",
    "# Create a new simulation session with seed = 20\n",
    "stg1.discrete_sim_exp(20)\n",
    "# Run simulation until 20000 patients have received transplant\n",
    "stg1.get_sim_record(stop_criteria='time', stop_count=365*500)\n",
    "# Get performance parameters: \n",
    "stg1.get_sim_params()\n",
    "\n",
    "# Note that current strategy 1 is set up as a M/M/2 system, which can't be simulated under gamma distribution:\n",
    "stg1.discrete_sim_gamma(20) # This will raise a ValueError()"
   ]
  },
  {
   "cell_type": "markdown",
   "metadata": {},
   "source": [
    "### Strategy 1 (under G/G/2) simulation: "
   ]
  },
  {
   "cell_type": "code",
   "execution_count": 116,
   "metadata": {},
   "outputs": [
    {
     "name": "stdout",
     "output_type": "stream",
     "text": [
      "Queue system configuration: G/G, arrival rate: 1.20, service rate: 0.60, total 2 server(s).\n",
      "Is current queue tandem: False\n",
      "Utilization rate: 0.997\n",
      "Length of queue: 340.203, length of system: 342.197\n",
      "Time in queue: 284.618 days, time in system: 286.286 days\n",
      "------------------------------------------------------------------------------------------------------------\n"
     ]
    },
    {
     "name": "stderr",
     "output_type": "stream",
     "text": [
      "100%|██████████| 182500.0/182500 [00:13<00:00, 13364.93it/s]          \n"
     ]
    },
    {
     "name": "stdout",
     "output_type": "stream",
     "text": [
      "gamma Simulation result: \n",
      "Time in queue: 151.201 days, time in system: 152.872 days\n",
      "Server utilization rate: [0.996, 0.995]\n",
      "------------------------------------------------------------------------------------------------------------\n"
     ]
    }
   ],
   "source": [
    "# Create a new G/G/2 queue system where the CV for both patients and donors per year is 1: \n",
    "stg1_r = queue(data.avg_patients.sum(), data.avg_donors.mean(), mode = \"G/G\", c=2, cv_a=1, cv_s=1, unit=unit)\n",
    "stg1_r.verbose = 1\n",
    "# Get params again: \n",
    "stg1_r.get_params()\n",
    "# Get simulations again: \n",
    "stg1_r.discrete_sim_gamma(20)\n",
    "stg1_r.get_sim_record(stop_criteria='time', stop_count=365*500)\n",
    "stg1_r.get_sim_params()\n"
   ]
  },
  {
   "cell_type": "code",
   "execution_count": 20,
   "metadata": {},
   "outputs": [
    {
     "name": "stderr",
     "output_type": "stream",
     "text": [
      "Iterating day scenarios..:   0%|          | 0/400 [00:00<?, ?it/s]"
     ]
    },
    {
     "name": "stderr",
     "output_type": "stream",
     "text": [
      " 92%|█████████▏| 100375/109500 [03:14<00:17, 516.35it/s]  <01:14,  2.82it/s]\n",
      "Iterating day scenarios..: 100%|██████████| 400/400 [02:15<00:00,  2.95it/s]\n"
     ]
    },
    {
     "data": {
      "image/png": "[encoded data removed]",
      "text/plain": [
       "<Figure size 1200x400 with 1 Axes>"
      ]
     },
     "metadata": {},
     "output_type": "display_data"
    }
   ],
   "source": [
    "stg1_r.discrete_sim_gamma(0)\n",
    "stg1_r.get_steady_state(20, 365, 400)"
   ]
  },
  {
   "cell_type": "markdown",
   "metadata": {},
   "source": [
    "### Strategy 1 (under G/G/2) simulation with ultiple seeds: "
   ]
  },
  {
   "cell_type": "code",
   "execution_count": 10,
   "metadata": {},
   "outputs": [
    {
     "name": "stderr",
     "output_type": "stream",
     "text": [
      "Iterating seeds...: 100%|\u001b[31m██████████\u001b[0m| 10/10 [01:23<00:00,  8.38s/it]\n"
     ]
    }
   ],
   "source": [
    "# Generate seeds: \n",
    "rand.seed(0)\n",
    "seeds = [rand.randint(0, 100) for i in range(10)] #<--- CHANGE THE NUMER OF SEEDS HERE\n",
    "# Create a new G/G/2 queue system where the CV for both patients and donors per year is 1:\n",
    "stg1_r = queue(data.avg_patients.sum(), data.avg_donors.mean(), mode = \"G/G\", c=2, cv_a=1, cv_s=1, unit=unit)\n",
    "stg1_r.verbose = 0\n",
    "# Get params again: \n",
    "stg1_r.get_params()\n",
    "# Get simulations again: \n",
    "result = stg1_r.multi_seed_sim(seed=seeds, sim_mode='gamma', stop_count=365*300)"
   ]
  },
  {
   "cell_type": "code",
   "execution_count": 11,
   "metadata": {},
   "outputs": [
    {
     "data": {
      "text/html": [
       "<div>\n",
       "<style scoped>\n",
       "    .dataframe tbody tr th:only-of-type {\n",
       "        vertical-align: middle;\n",
       "    }\n",
       "\n",
       "    .dataframe tbody tr th {\n",
       "        vertical-align: top;\n",
       "    }\n",
       "\n",
       "    .dataframe thead th {\n",
       "        text-align: right;\n",
       "    }\n",
       "</style>\n",
       "<table border=\"1\" class=\"dataframe\">\n",
       "  <thead>\n",
       "    <tr style=\"text-align: right;\">\n",
       "      <th></th>\n",
       "      <th>system_time</th>\n",
       "      <th>queue_time</th>\n",
       "      <th>utilization</th>\n",
       "    </tr>\n",
       "  </thead>\n",
       "  <tbody>\n",
       "    <tr>\n",
       "      <th>49</th>\n",
       "      <td>158.925</td>\n",
       "      <td>157.261</td>\n",
       "      <td>[0.996443886254466, 0.9947349753148766]</td>\n",
       "    </tr>\n",
       "    <tr>\n",
       "      <th>97</th>\n",
       "      <td>97.888</td>\n",
       "      <td>96.222</td>\n",
       "      <td>[0.9949494072579298, 0.9926760720489637]</td>\n",
       "    </tr>\n",
       "    <tr>\n",
       "      <th>53</th>\n",
       "      <td>70.277</td>\n",
       "      <td>68.608</td>\n",
       "      <td>[0.9933512012066072, 0.9907040245518396]</td>\n",
       "    </tr>\n",
       "    <tr>\n",
       "      <th>5</th>\n",
       "      <td>117.248</td>\n",
       "      <td>115.582</td>\n",
       "      <td>[0.9943229089577312, 0.9919555414575182]</td>\n",
       "    </tr>\n",
       "    <tr>\n",
       "      <th>33</th>\n",
       "      <td>66.358</td>\n",
       "      <td>64.694</td>\n",
       "      <td>[0.9932050077847304, 0.9910744733311311]</td>\n",
       "    </tr>\n",
       "    <tr>\n",
       "      <th>65</th>\n",
       "      <td>267.116</td>\n",
       "      <td>265.45</td>\n",
       "      <td>[0.9945477754445488, 0.9927632098146675]</td>\n",
       "    </tr>\n",
       "    <tr>\n",
       "      <th>62</th>\n",
       "      <td>74.082</td>\n",
       "      <td>72.417</td>\n",
       "      <td>[0.9911165883697928, 0.986938140688776]</td>\n",
       "    </tr>\n",
       "    <tr>\n",
       "      <th>51</th>\n",
       "      <td>212.472</td>\n",
       "      <td>210.799</td>\n",
       "      <td>[0.9951019357410187, 0.9932625834474569]</td>\n",
       "    </tr>\n",
       "    <tr>\n",
       "      <th>100</th>\n",
       "      <td>105.341</td>\n",
       "      <td>103.677</td>\n",
       "      <td>[0.9952697758100293, 0.9935749657892412]</td>\n",
       "    </tr>\n",
       "    <tr>\n",
       "      <th>38</th>\n",
       "      <td>491.16</td>\n",
       "      <td>489.482</td>\n",
       "      <td>[0.9994019756183646, 0.999267465201432]</td>\n",
       "    </tr>\n",
       "  </tbody>\n",
       "</table>\n",
       "</div>"
      ],
      "text/plain": [
       "    system_time queue_time                               utilization\n",
       "49      158.925    157.261   [0.996443886254466, 0.9947349753148766]\n",
       "97       97.888     96.222  [0.9949494072579298, 0.9926760720489637]\n",
       "53       70.277     68.608  [0.9933512012066072, 0.9907040245518396]\n",
       "5       117.248    115.582  [0.9943229089577312, 0.9919555414575182]\n",
       "33       66.358     64.694  [0.9932050077847304, 0.9910744733311311]\n",
       "65      267.116     265.45  [0.9945477754445488, 0.9927632098146675]\n",
       "62       74.082     72.417   [0.9911165883697928, 0.986938140688776]\n",
       "51      212.472    210.799  [0.9951019357410187, 0.9932625834474569]\n",
       "100     105.341    103.677  [0.9952697758100293, 0.9935749657892412]\n",
       "38       491.16    489.482   [0.9994019756183646, 0.999267465201432]"
      ]
     },
     "execution_count": 11,
     "metadata": {},
     "output_type": "execute_result"
    }
   ],
   "source": [
    "# Average this result to get what you want:\n",
    "result"
   ]
  },
  {
   "cell_type": "markdown",
   "metadata": {},
   "source": [
    "### Loop over multiple CVs: "
   ]
  },
  {
   "cell_type": "code",
   "execution_count": 24,
   "metadata": {},
   "outputs": [
    {
     "name": "stderr",
     "output_type": "stream",
     "text": [
      "Iterating seeds...:  60%|\u001b[31m██████    \u001b[0m| 6/10 [00:04<00:02,  1.41it/s]\n"
     ]
    },
    {
     "ename": "KeyboardInterrupt",
     "evalue": "",
     "output_type": "error",
     "traceback": [
      "\u001b[0;31m---------------------------------------------------------------------------\u001b[0m",
      "\u001b[0;31mKeyboardInterrupt\u001b[0m                         Traceback (most recent call last)",
      "Cell \u001b[0;32mIn[24], line 10\u001b[0m\n\u001b[1;32m      8\u001b[0m stg1_r\u001b[38;5;241m.\u001b[39mget_params()\n\u001b[1;32m      9\u001b[0m \u001b[38;5;66;03m# Get simulations again: \u001b[39;00m\n\u001b[0;32m---> 10\u001b[0m result \u001b[38;5;241m=\u001b[39m \u001b[43mstg1_r\u001b[49m\u001b[38;5;241;43m.\u001b[39;49m\u001b[43mmulti_seed_sim\u001b[49m\u001b[43m(\u001b[49m\u001b[43mseed\u001b[49m\u001b[38;5;241;43m=\u001b[39;49m\u001b[43mseeds\u001b[49m\u001b[43m,\u001b[49m\u001b[43m \u001b[49m\u001b[43msim_mode\u001b[49m\u001b[38;5;241;43m=\u001b[39;49m\u001b[38;5;124;43m'\u001b[39;49m\u001b[38;5;124;43mgamma\u001b[39;49m\u001b[38;5;124;43m'\u001b[39;49m\u001b[43m,\u001b[49m\u001b[43m \u001b[49m\u001b[43mstop_count\u001b[49m\u001b[38;5;241;43m=\u001b[39;49m\u001b[38;5;241;43m365\u001b[39;49m\u001b[38;5;241;43m*\u001b[39;49m\u001b[38;5;241;43m30\u001b[39;49m\u001b[43m)\u001b[49m\n\u001b[1;32m     11\u001b[0m result_system_time \u001b[38;5;241m=\u001b[39m result\u001b[38;5;241m.\u001b[39msystem_time\u001b[38;5;241m.\u001b[39mmean()\n\u001b[1;32m     12\u001b[0m cv_loops[(cv_arrival, cv_service)] \u001b[38;5;241m=\u001b[39m result_system_time\n",
      "Cell \u001b[0;32mIn[7], line 264\u001b[0m, in \u001b[0;36mqueue.multi_seed_sim\u001b[0;34m(self, seed, sim_mode, stop_criteria, stop_count)\u001b[0m\n\u001b[1;32m    262\u001b[0m \u001b[38;5;28;01melse\u001b[39;00m: \n\u001b[1;32m    263\u001b[0m     \u001b[38;5;28;01mraise\u001b[39;00m \u001b[38;5;167;01mValueError\u001b[39;00m(\u001b[38;5;124mf\u001b[39m\u001b[38;5;124m'\u001b[39m\u001b[38;5;132;01m{\u001b[39;00msim_mode\u001b[38;5;132;01m}\u001b[39;00m\u001b[38;5;124m not currently supported. Must be exponential or gamma. \u001b[39m\u001b[38;5;124m'\u001b[39m)\n\u001b[0;32m--> 264\u001b[0m \u001b[38;5;28;43mself\u001b[39;49m\u001b[38;5;241;43m.\u001b[39;49m\u001b[43mget_sim_record\u001b[49m\u001b[43m(\u001b[49m\u001b[43mstop_criteria\u001b[49m\u001b[43m,\u001b[49m\u001b[43m \u001b[49m\u001b[43mstop_count\u001b[49m\u001b[43m)\u001b[49m\n\u001b[1;32m    265\u001b[0m \u001b[38;5;28mself\u001b[39m\u001b[38;5;241m.\u001b[39mget_sim_params()\n\u001b[1;32m    266\u001b[0m sys_time \u001b[38;5;241m=\u001b[39m \u001b[38;5;28mself\u001b[39m\u001b[38;5;241m.\u001b[39msim_w\n",
      "Cell \u001b[0;32mIn[7], line 155\u001b[0m, in \u001b[0;36mqueue.get_sim_record\u001b[0;34m(self, stop_criteria, stop_count)\u001b[0m\n\u001b[1;32m    153\u001b[0m \u001b[38;5;66;03m# Run simulation:\u001b[39;00m\n\u001b[1;32m    154\u001b[0m \u001b[38;5;28;01mif\u001b[39;00m stop_criteria \u001b[38;5;241m==\u001b[39m \u001b[38;5;124m'\u001b[39m\u001b[38;5;124mcustomer\u001b[39m\u001b[38;5;124m'\u001b[39m:\n\u001b[0;32m--> 155\u001b[0m     \u001b[38;5;28;43mself\u001b[39;49m\u001b[38;5;241;43m.\u001b[39;49m\u001b[43msim\u001b[49m\u001b[38;5;241;43m.\u001b[39;49m\u001b[43msimulate_until_max_customers\u001b[49m\u001b[43m(\u001b[49m\u001b[43mstop_count\u001b[49m\u001b[43m,\u001b[49m\u001b[43m \u001b[49m\u001b[43mprogress_bar\u001b[49m\u001b[38;5;241;43m=\u001b[39;49m\u001b[38;5;28;43;01mTrue\u001b[39;49;00m\u001b[43m)\u001b[49m\n\u001b[1;32m    156\u001b[0m \u001b[38;5;28;01melif\u001b[39;00m stop_criteria \u001b[38;5;241m==\u001b[39m \u001b[38;5;124m'\u001b[39m\u001b[38;5;124mtime\u001b[39m\u001b[38;5;124m'\u001b[39m: \n\u001b[1;32m    157\u001b[0m     \u001b[38;5;28mself\u001b[39m\u001b[38;5;241m.\u001b[39msim\u001b[38;5;241m.\u001b[39msimulate_until_max_time(stop_count, progress_bar\u001b[38;5;241m=\u001b[39m\u001b[38;5;28;01mTrue\u001b[39;00m)\n",
      "File \u001b[0;32m~/anaconda3/envs/ann_env/lib/python3.10/site-packages/ciw/simulation.py:282\u001b[0m, in \u001b[0;36mSimulation.simulate_until_max_customers\u001b[0;34m(self, max_customers, progress_bar, method)\u001b[0m\n\u001b[1;32m    280\u001b[0m \u001b[38;5;28;01mwhile\u001b[39;00m check() \u001b[38;5;241m<\u001b[39m max_customers:\n\u001b[1;32m    281\u001b[0m     old_check \u001b[38;5;241m=\u001b[39m check()\n\u001b[0;32m--> 282\u001b[0m     next_active_node \u001b[38;5;241m=\u001b[39m \u001b[38;5;28;43mself\u001b[39;49m\u001b[38;5;241;43m.\u001b[39;49m\u001b[43mevent_and_return_nextnode\u001b[49m\u001b[43m(\u001b[49m\u001b[43mnext_active_node\u001b[49m\u001b[43m)\u001b[49m\n\u001b[1;32m    283\u001b[0m     \u001b[38;5;28mself\u001b[39m\u001b[38;5;241m.\u001b[39mstatetracker\u001b[38;5;241m.\u001b[39mtimestamp()\n\u001b[1;32m    285\u001b[0m     \u001b[38;5;28;01mif\u001b[39;00m progress_bar:\n",
      "File \u001b[0;32m~/anaconda3/envs/ann_env/lib/python3.10/site-packages/ciw/simulation.py:194\u001b[0m, in \u001b[0;36mSimulation.event_and_return_nextnode\u001b[0;34m(self, next_active_node)\u001b[0m\n\u001b[1;32m    189\u001b[0m \u001b[38;5;28;01mdef\u001b[39;00m \u001b[38;5;21mevent_and_return_nextnode\u001b[39m(\u001b[38;5;28mself\u001b[39m, next_active_node):\n\u001b[1;32m    190\u001b[0m \u001b[38;5;250m    \u001b[39m\u001b[38;5;124;03m\"\"\"\u001b[39;00m\n\u001b[1;32m    191\u001b[0m \u001b[38;5;124;03m    Carries out the event of current next_active_node,\u001b[39;00m\n\u001b[1;32m    192\u001b[0m \u001b[38;5;124;03m    and returns the next next_active_node\u001b[39;00m\n\u001b[1;32m    193\u001b[0m \u001b[38;5;124;03m    \"\"\"\u001b[39;00m\n\u001b[0;32m--> 194\u001b[0m     \u001b[43mnext_active_node\u001b[49m\u001b[38;5;241;43m.\u001b[39;49m\u001b[43mhave_event\u001b[49m\u001b[43m(\u001b[49m\u001b[43m)\u001b[49m\n\u001b[1;32m    195\u001b[0m     \u001b[38;5;28;01mfor\u001b[39;00m node \u001b[38;5;129;01min\u001b[39;00m \u001b[38;5;28mself\u001b[39m\u001b[38;5;241m.\u001b[39mtransitive_nodes:\n\u001b[1;32m    196\u001b[0m         node\u001b[38;5;241m.\u001b[39mupdate_next_event_date()\n",
      "File \u001b[0;32m~/anaconda3/envs/ann_env/lib/python3.10/site-packages/ciw/arrival_node.py:103\u001b[0m, in \u001b[0;36mArrivalNode.have_event\u001b[0;34m(self)\u001b[0m\n\u001b[1;32m     97\u001b[0m     \u001b[38;5;28mself\u001b[39m\u001b[38;5;241m.\u001b[39mrelease_individual(next_node, next_individual)\n\u001b[1;32m     99\u001b[0m \u001b[38;5;28mself\u001b[39m\u001b[38;5;241m.\u001b[39mevent_dates_dict[\u001b[38;5;28mself\u001b[39m\u001b[38;5;241m.\u001b[39mnext_node][\u001b[38;5;28mself\u001b[39m\u001b[38;5;241m.\u001b[39mnext_class] \u001b[38;5;241m=\u001b[39m \u001b[38;5;28mself\u001b[39m\u001b[38;5;241m.\u001b[39mincrement_time(\n\u001b[1;32m    100\u001b[0m     \u001b[38;5;28mself\u001b[39m\u001b[38;5;241m.\u001b[39mevent_dates_dict[\u001b[38;5;28mself\u001b[39m\u001b[38;5;241m.\u001b[39mnext_node][\u001b[38;5;28mself\u001b[39m\u001b[38;5;241m.\u001b[39mnext_class],\n\u001b[1;32m    101\u001b[0m     \u001b[38;5;28mself\u001b[39m\u001b[38;5;241m.\u001b[39minter_arrival(\u001b[38;5;28mself\u001b[39m\u001b[38;5;241m.\u001b[39mnext_node, \u001b[38;5;28mself\u001b[39m\u001b[38;5;241m.\u001b[39mnext_class),\n\u001b[1;32m    102\u001b[0m )\n\u001b[0;32m--> 103\u001b[0m \u001b[38;5;28;43mself\u001b[39;49m\u001b[38;5;241;43m.\u001b[39;49m\u001b[43mfind_next_event_date\u001b[49m\u001b[43m(\u001b[49m\u001b[43m)\u001b[49m\n",
      "File \u001b[0;32m~/anaconda3/envs/ann_env/lib/python3.10/site-packages/ciw/arrival_node.py:67\u001b[0m, in \u001b[0;36mArrivalNode.find_next_event_date\u001b[0;34m(self)\u001b[0m\n\u001b[1;32m     65\u001b[0m minnd \u001b[38;5;241m=\u001b[39m \u001b[38;5;28;01mNone\u001b[39;00m\n\u001b[1;32m     66\u001b[0m minclss \u001b[38;5;241m=\u001b[39m \u001b[38;5;28;01mNone\u001b[39;00m\n\u001b[0;32m---> 67\u001b[0m mindate \u001b[38;5;241m=\u001b[39m \u001b[38;5;28;43mfloat\u001b[39;49m\u001b[43m(\u001b[49m\u001b[38;5;124;43m\"\u001b[39;49m\u001b[38;5;124;43mInf\u001b[39;49m\u001b[38;5;124;43m\"\u001b[39;49m\u001b[43m)\u001b[49m\n\u001b[1;32m     68\u001b[0m \u001b[38;5;28;01mfor\u001b[39;00m nd \u001b[38;5;129;01min\u001b[39;00m \u001b[38;5;28mself\u001b[39m\u001b[38;5;241m.\u001b[39mevent_dates_dict:\n\u001b[1;32m     69\u001b[0m     \u001b[38;5;28;01mfor\u001b[39;00m clss \u001b[38;5;129;01min\u001b[39;00m \u001b[38;5;28mself\u001b[39m\u001b[38;5;241m.\u001b[39mevent_dates_dict[nd]:\n",
      "\u001b[0;31mKeyboardInterrupt\u001b[0m: "
     ]
    }
   ],
   "source": [
    "cv_loops = {}\n",
    "for cv_arrival in [1, 1.1, 1.2, 1.3, 1.4, 1.5]: \n",
    "    for cv_service in [1, 1.1, 1.2, 1.3, 1.4, 1.5]: \n",
    "        # Create a new G/G/2 queue system where the CV for both patients and donors per year is 1:\n",
    "        stg1_r = queue(data.avg_patients.sum(), data.avg_donors.mean(), mode = \"G/G\", c=2, cv_a=cv_arrival, cv_s=cv_service, unit=unit)\n",
    "        stg1_r.verbose = 0\n",
    "        # Get params again: \n",
    "        stg1_r.get_params()\n",
    "        # Get simulations again: \n",
    "        result = stg1_r.multi_seed_sim(seed=seeds, sim_mode='gamma', stop_count=365*30)\n",
    "        result_system_time = result.system_time.mean()\n",
    "        cv_loops[(cv_arrival, cv_service)] = result_system_time"
   ]
  },
  {
   "cell_type": "code",
   "execution_count": 25,
   "metadata": {},
   "outputs": [
    {
     "data": {
      "text/plain": [
       "{(1, 1): 43.6707,\n",
       " (1, 1.1): 43.6707,\n",
       " (1, 1.2): 43.6707,\n",
       " (1, 1.3): 43.6707,\n",
       " (1, 1.4): 43.6707,\n",
       " (1, 1.5): 43.6707,\n",
       " (1.1, 1): 43.6707,\n",
       " (1.1, 1.1): 43.6707,\n",
       " (1.1, 1.2): 43.6707,\n",
       " (1.1, 1.3): 43.6707,\n",
       " (1.1, 1.4): 43.6707,\n",
       " (1.1, 1.5): 43.6707,\n",
       " (1.2, 1): 43.6707,\n",
       " (1.2, 1.1): 43.6707,\n",
       " (1.2, 1.2): 43.6707,\n",
       " (1.2, 1.3): 43.6707,\n",
       " (1.2, 1.4): 43.6707,\n",
       " (1.2, 1.5): 43.6707,\n",
       " (1.3, 1): 43.6707,\n",
       " (1.3, 1.1): 43.6707,\n",
       " (1.3, 1.2): 43.6707,\n",
       " (1.3, 1.3): 43.6707}"
      ]
     },
     "execution_count": 25,
     "metadata": {},
     "output_type": "execute_result"
    },
    {
     "name": "stderr",
     "output_type": "stream",
     "text": []
    }
   ],
   "source": [
    "cv_loops"
   ]
  },
  {
   "cell_type": "markdown",
   "metadata": {},
   "source": [
    "# QA Cases"
   ]
  },
  {
   "cell_type": "markdown",
   "metadata": {},
   "source": [
    "### Scenario 1: Starbucks (Dedicated Queues with Two Servers) - Two M/M/1 "
   ]
  },
  {
   "cell_type": "code",
   "execution_count": 12,
   "metadata": {},
   "outputs": [
    {
     "name": "stdout",
     "output_type": "stream",
     "text": [
      "Queue system configuration: M/M, arrival rate: 47.50, service rate: 50.00, total 1 server(s).\n",
      "Is current queue tandem: False\n",
      "Utilization rate: 0.950\n",
      "Length of queue: 18.050, length of system: 19.000\n",
      "Time in queue: 0.380 years, time in system: 0.400 years\n",
      "------------------------------------------------------------------------------------------------------------\n"
     ]
    }
   ],
   "source": [
    "lbda1 = 95/2  #arrival rate\n",
    "avg1 = 50    # service rate \n",
    "\n",
    "test = queue(lbda1, avg1, c=1, mode='M/M')\n",
    "test.verbose = 1\n",
    "test.get_params()\n"
   ]
  },
  {
   "cell_type": "markdown",
   "metadata": {},
   "source": [
    "### Scenario 2: Starbucks (Combined Queues) - M/M/2"
   ]
  },
  {
   "cell_type": "code",
   "execution_count": 13,
   "metadata": {},
   "outputs": [
    {
     "name": "stdout",
     "output_type": "stream",
     "text": [
      "Queue system configuration: M/M, arrival rate: 95.00, service rate: 50.00, total 2 server(s).\n",
      "Is current queue tandem: False\n",
      "Utilization rate: 0.950\n",
      "Length of queue: 17.587, length of system: 19.487\n",
      "Time in queue: 0.185 years, time in system: 0.205 years\n",
      "------------------------------------------------------------------------------------------------------------\n"
     ]
    }
   ],
   "source": [
    "lbda2 = 95  #arrival rate\n",
    "avg2 = 50    # service rate \n",
    "\n",
    "test = queue(lbda2, avg2, c=2, mode='M/M')\n",
    "test.verbose = 1\n",
    "test.get_params()"
   ]
  },
  {
   "cell_type": "markdown",
   "metadata": {},
   "source": [
    "### Scenario 3: Starbucks (Tamdem Queues)"
   ]
  },
  {
   "cell_type": "code",
   "execution_count": 14,
   "metadata": {},
   "outputs": [
    {
     "name": "stdout",
     "output_type": "stream",
     "text": [
      "Queue system configuration: M/M, arrival rate: 95.00, service rate: 100.00, total 1 server(s).\n",
      "Is current queue tandem: True\n",
      "Utilization rate: 0.950\n",
      "Length of queue: 18.050, length of system: 19.000\n",
      "Time in queue: 0.380 years, time in system: 0.400 years\n",
      "------------------------------------------------------------------------------------------------------------\n"
     ]
    }
   ],
   "source": [
    "lbda3 = 95  #arrival rate\n",
    "avg3 = 100  # service rate \n",
    "\n",
    "test = queue(lbda3, avg3, c=1, mode='M/M', tandem_queue=True)\n",
    "test.verbose = 1\n",
    "test.get_params()"
   ]
  },
  {
   "cell_type": "markdown",
   "metadata": {},
   "source": [
    "### Scenario 4: Starbucks (Tamdem Queues, with improvements)"
   ]
  },
  {
   "cell_type": "code",
   "execution_count": 15,
   "metadata": {},
   "outputs": [
    {
     "name": "stdout",
     "output_type": "stream",
     "text": [
      "Queue system configuration: M/M, arrival rate: 95.00, service rate: 105.00, total 1 server(s).\n",
      "Is current queue tandem: True\n",
      "Utilization rate: 0.905\n",
      "Length of queue: 8.595, length of system: 9.500\n",
      "Time in queue: 0.181 years, time in system: 0.200 years\n",
      "------------------------------------------------------------------------------------------------------------\n"
     ]
    }
   ],
   "source": [
    "lbda3 = 95  #arrival rate\n",
    "avg3 = 105  # service rate \n",
    "\n",
    "test = queue(lbda3, avg3, c=1, mode='M/M', tandem_queue=True)\n",
    "test.verbose = 1\n",
    "test.get_params()"
   ]
  }
 ],
 "metadata": {
  "kernelspec": {
   "display_name": "ann_env",
   "language": "python",
   "name": "python3"
  },
  "language_info": {
   "codemirror_mode": {
    "name": "ipython",
    "version": 3
   },
   "file_extension": ".py",
   "mimetype": "text/x-python",
   "name": "python",
   "nbconvert_exporter": "python",
   "pygments_lexer": "ipython3",
   "version": "3.10.13"
  }
 },
 "nbformat": 4,
 "nbformat_minor": 2
}
