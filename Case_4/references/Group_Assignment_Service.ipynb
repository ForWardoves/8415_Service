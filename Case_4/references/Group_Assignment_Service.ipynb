{
  "cells": [
    {
      "cell_type": "code",
      "execution_count": 4,
      "metadata": {
        "id": "8kUoCIAu3zAf"
      },
      "outputs": [],
      "source": [
        "import ciw\n",
        "import numpy as np\n",
        "import matplotlib.pyplot as plt\n",
        "import pandas as pd ,seaborn as sns, numpy as np ,matplotlib.pyplot as plt"
      ]
    },
    {
      "cell_type": "code",
      "execution_count": 36,
      "metadata": {
        "id": "naWD7Yx3eD02"
      },
      "outputs": [],
      "source": [
        "import math\n",
        "\n",
        "##### x! ##########\n",
        "def factorial(x):\n",
        "    if (x == 1) or (x==0):\n",
        "        return 1\n",
        "    else:\n",
        "        # recursive call to the function\n",
        "        return (x * factorial(x-1))\n",
        "\n",
        "###################\n",
        "def user_defined_sum(c,𝜌):\n",
        "    sum = 0\n",
        "    for n in range(c):\n",
        "        sum += (c*𝜌)**n/factorial(n)\n",
        "\n",
        "    return 1/(sum + (c*𝜌)**c/(factorial(c)*(1-𝜌)))\n",
        "\n",
        "##### M/M/c ##########\n",
        "def m_m_c(𝜆,µ,c):\n",
        "    𝜌 = 𝜆/(c*µ)\n",
        "    p0 = user_defined_sum(c,𝜌)\n",
        "    lq = (c*𝜌)**c*p0*𝜌/(factorial(c)*(1-𝜌)**2)\n",
        "    wq = lq/𝜆\n",
        "    L = lq + 𝜆/µ\n",
        "    W=L/𝜆\n",
        "    return(𝜌,p0,lq,wq,L,W)"
      ]
    },
    {
      "cell_type": "markdown",
      "metadata": {
        "id": "TbulOzzmeKpQ"
      },
      "source": [
        "Comparing with Steady State Analytic's Solution"
      ]
    },
    {
      "cell_type": "code",
      "execution_count": 6,
      "metadata": {
        "colab": {
          "base_uri": "https://localhost:8080/"
        },
        "id": "yqrieL0acqxv",
        "outputId": "3d875832-496e-4daa-91c9-b63fe1223c7b"
      },
      "outputs": [
        {
          "name": "stdout",
          "output_type": "stream",
          "text": [
            "Avg. Time in queue:0.38\n",
            "Avg. Time in system:0.4\n"
          ]
        }
      ],
      "source": [
        "𝜆 = 95/2  #arrival rate\n",
        "µ = 50    # service rate\n",
        "\n",
        "𝜌,p0,lq,wq,L,W = m_m_c(𝜆,µ,c=1)\n",
        "print('Avg. Time in queue:{}'.format(round(wq,3)))\n",
        "print('Avg. Time in system:{}'.format(round(W,3)))\n",
        "\n",
        "# we will find that this analytic solution will be very similar to the simulated result as above."
      ]
    },
    {
      "cell_type": "markdown",
      "metadata": {
        "id": "HFutx6yzdZxB"
      },
      "source": [
        "# Question 1. What is the current level of activity in the queuing systems of Toronto and London? This includes factors like their utilization rate, wait times, and the length of their wait lists. Provide your thoughts on the findings (employ steady-state analytical methods to evaluate the performance of the systems)."
      ]
    },
    {
      "cell_type": "code",
      "execution_count": 7,
      "metadata": {
        "id": "w6fHUloodcGq"
      },
      "outputs": [],
      "source": [
        "l_arrival = 109.025\n",
        "l_service = 110.047\n",
        "t_arrival = 327.259\n",
        "t_service = 327.514\n",
        "\n"
      ]
    },
    {
      "cell_type": "code",
      "execution_count": 8,
      "metadata": {
        "colab": {
          "base_uri": "https://localhost:8080/"
        },
        "id": "kZPUD8Q3gfGd",
        "outputId": "b9ee0804-e804-47a5-ad33-f66cd1293cee"
      },
      "outputs": [
        {
          "name": "stdout",
          "output_type": "stream",
          "text": [
            "London\n",
            "Avg. Time in queue:0.969\n",
            "Avg. Time in the system:0.978\n",
            "Utilization Rate in system:0.991\n",
            "Avg. Waitlist Length in system:105.687\n"
          ]
        }
      ],
      "source": [
        "# London\n",
        "𝜆 = l_arrival  #arrival rate\n",
        "µ = l_service    # service rate\n",
        "\n",
        "𝜌,p0,lq,wq,L,W = m_m_c(𝜆,µ,c=1)\n",
        "print(\"London\")\n",
        "print('Avg. Time in queue:{}'.format(round(wq,3)))\n",
        "print('Avg. Time in the system:{}'.format(round(W,3)))\n",
        "print('Utilization Rate in system:{}'.format(round(𝜌,3)))\n",
        "print('Avg. Waitlist Length in system:{}'.format(round(lq,3)))\n",
        "\n"
      ]
    },
    {
      "cell_type": "code",
      "execution_count": 9,
      "metadata": {
        "colab": {
          "base_uri": "https://localhost:8080/"
        },
        "id": "HsId2ZqphkZw",
        "outputId": "2d617b83-a0b5-4b83-f091-3bf389cf45a4"
      },
      "outputs": [
        {
          "name": "stdout",
          "output_type": "stream",
          "text": [
            "Toronto\n",
            "Avg. Time in queue:3.919\n",
            "Avg. Time in the system:3.922\n",
            "Utilization Rate in system:0.999\n",
            "Avg. Waitlist Length in system:1282.369\n"
          ]
        }
      ],
      "source": [
        "# Toronto\n",
        "𝜆 = t_arrival\n",
        "µ = t_service\n",
        "\n",
        "𝜌,p0,lq,wq,L,W = m_m_c(𝜆,µ,c=1)\n",
        "print(\"Toronto\")\n",
        "print('Avg. Time in queue:{}'.format(round(wq,3)))\n",
        "print('Avg. Time in the system:{}'.format(round(W,3)))\n",
        "print('Utilization Rate in system:{}'.format(round(𝜌,3)))\n",
        "print('Avg. Waitlist Length in system:{}'.format(round(lq,3)))"
      ]
    },
    {
      "cell_type": "markdown",
      "metadata": {
        "id": "x9gLSaUkijFE"
      },
      "source": [
        "The utilization rate in both cities are almost 100%. The waitlist length in Toronto is almost 10 times longer than in London. The average wait time in Toronto is 4 times longer than in London."
      ]
    },
    {
      "cell_type": "markdown",
      "metadata": {
        "id": "Va-WE-SWdj78"
      },
      "source": [
        "# Question 2. Create three different queuing system designs and assess their performance compared to the existing setup. Determine which design would be most advantageous for the patients. Share your insights on the outcomes  (employ steady-state analytical methods to evaluate the performance of the systems)."
      ]
    },
    {
      "cell_type": "code",
      "execution_count": 10,
      "metadata": {
        "colab": {
          "base_uri": "https://localhost:8080/"
        },
        "id": "l7NPXppQiIwr",
        "outputId": "1ffbede8-416d-4111-a8e9-a50f42d685d1"
      },
      "outputs": [
        {
          "name": "stdout",
          "output_type": "stream",
          "text": [
            "Pooled Arrival\n",
            "Avg. Time in queue:0.78\n",
            "Avg. Time in the system:0.784\n",
            "Utilization Rate in system:0.997\n",
            "Avg. Waitlist Length in system:340.153\n"
          ]
        }
      ],
      "source": [
        "# Pooled Arrival\n",
        "\n",
        "𝜆 = (l_arrival+ t_arrival)\n",
        "µ = (l_service + t_service)/2\n",
        "\n",
        "𝜌,p0,lq,wq,L,W = m_m_c(𝜆,µ,c=2)\n",
        "print(\"Pooled Arrival\")\n",
        "print('Avg. Time in queue:{}'.format(round(wq,3)))\n",
        "print('Avg. Time in the system:{}'.format(round(W,3)))\n",
        "print('Utilization Rate in system:{}'.format(round(𝜌,3)))\n",
        "print('Avg. Waitlist Length in system:{}'.format(round(lq,3)))\n"
      ]
    },
    {
      "cell_type": "markdown",
      "metadata": {
        "id": "Ue4FWofEt3TK"
      },
      "source": [
        "Pooled Service: In order to ensure fairness of the system, the two queues will be served by the server proportional to how long the two queues are."
      ]
    },
    {
      "cell_type": "code",
      "execution_count": 11,
      "metadata": {
        "colab": {
          "base_uri": "https://localhost:8080/"
        },
        "id": "icnrF8PIkPns",
        "outputId": "6a665d6c-e974-4275-b2b5-62d7423922ce"
      },
      "outputs": [
        {
          "name": "stdout",
          "output_type": "stream",
          "text": [
            "Pooled Service_London\n",
            "Avg. Time in queue:3.125\n",
            "Avg. Time in the system:3.134\n",
            "Utilization Rate in system:0.997\n",
            "Avg. Waitlist Length in system:340.651\n",
            "Pooled Service_Toronto\n",
            "Avg. Time in queue:1.041\n",
            "Avg. Time in the system:1.044\n",
            "Utilization Rate in system:0.997\n",
            "Avg. Waitlist Length in system:340.651\n"
          ]
        }
      ],
      "source": [
        "# Pooled Service\n",
        "𝜆 = l_arrival\n",
        "µ = (l_arrival/(l_arrival+t_arrival)) * (t_service+ l_service)\n",
        "\n",
        "𝜌,p0,lq,wq,L,W = m_m_c(𝜆,µ,c=1)\n",
        "print(\"Pooled Service_London\")\n",
        "print('Avg. Time in queue:{}'.format(round(wq,3)))\n",
        "print('Avg. Time in the system:{}'.format(round(W,3)))\n",
        "print('Utilization Rate in system:{}'.format(round(𝜌,3)))\n",
        "print('Avg. Waitlist Length in system:{}'.format(round(lq,3)))\n",
        "\n",
        "𝜆 = t_arrival\n",
        "µ = (t_arrival/(l_arrival+t_arrival)) * (t_service+ l_service)\n",
        "\n",
        "𝜌,p0,lq,wq,L,W = m_m_c(𝜆,µ,c=1)\n",
        "print(\"Pooled Service_Toronto\")\n",
        "print('Avg. Time in queue:{}'.format(round(wq,3)))\n",
        "print('Avg. Time in the system:{}'.format(round(W,3)))\n",
        "print('Utilization Rate in system:{}'.format(round(𝜌,3)))\n",
        "print('Avg. Waitlist Length in system:{}'.format(round(lq,3)))\n"
      ]
    },
    {
      "cell_type": "code",
      "execution_count": 12,
      "metadata": {
        "colab": {
          "base_uri": "https://localhost:8080/"
        },
        "id": "Gn3kEyGull4f",
        "outputId": "7f7f66a6-98bb-4319-edec-0baab1b4d8b0"
      },
      "outputs": [
        {
          "name": "stdout",
          "output_type": "stream",
          "text": [
            "Pooled Arrival and Service\n",
            "Avg. Time in queue:0.781\n",
            "Avg. Time in the system:0.783\n",
            "Utilization Rate in system:0.997\n",
            "Avg. Waitlist Length in system:340.651\n"
          ]
        }
      ],
      "source": [
        "# Pooled Arrival and Service\n",
        "𝜆 = l_arrival+ t_arrival\n",
        "µ = t_service+ l_service\n",
        "\n",
        "𝜌,p0,lq,wq,L,W = m_m_c(𝜆,µ,c=1)\n",
        "print(\"Pooled Arrival and Service\")\n",
        "print('Avg. Time in queue:{}'.format(round(wq,3)))\n",
        "print('Avg. Time in the system:{}'.format(round(W,3)))\n",
        "print('Utilization Rate in system:{}'.format(round(𝜌,3)))\n",
        "print('Avg. Waitlist Length in system:{}'.format(round(lq,3)))"
      ]
    },
    {
      "cell_type": "markdown",
      "metadata": {
        "id": "n4P6zztodnMV"
      },
      "source": [
        "# Question 3. Conduct discrete event simulations to evaluate how variability in both arrival and service processes affects the original waitlist and the proposed design from question 2."
      ]
    },
    {
      "cell_type": "code",
      "execution_count": 13,
      "metadata": {
        "colab": {
          "base_uri": "https://localhost:8080/"
        },
        "id": "nMqCC1kQ6sH5",
        "outputId": "4060420d-abe0-4f9f-f3a6-5a00df09ef1e"
      },
      "outputs": [
        {
          "name": "stdout",
          "output_type": "stream",
          "text": [
            "Pooled Arrival and Service\n",
            "Avg. Time in queue:1.218\n",
            "Avg. Time in the system:1.223\n",
            "Utilization Rate in system:0.997\n",
            "Avg. Waitlist Length in system:531.568\n",
            "Avg number of customer in system:533.562\n"
          ]
        }
      ],
      "source": [
        "\n",
        "######## G/G/C ###########\n",
        "def g_g_c(s,cv_s,a,cv_a,c):\n",
        "\n",
        "    𝜌 = s/(c*a)\n",
        "    wq = s/c * (cv_a**2+cv_s**2)/2 * 𝜌**(-1+math.sqrt(2*(c+1)))/(1- 𝜌)\n",
        "\n",
        "    service_time = s\n",
        "    W = wq + s\n",
        "    L = W * 𝜆\n",
        "    lq = wq * 𝜆\n",
        "    return(𝜌,lq,wq,L,W)\n",
        "\n",
        "l = (l_arrival+ t_arrival)\n",
        "mu = (l_service + t_service)/2\n",
        "cv = 1.25\n",
        "𝜌,lq,wq,L,W = g_g_c(s=1/mu,cv_s= cv, a = 1/l, cv_a = cv,c=2)\n",
        "print(\"Pooled Arrival and Service\")\n",
        "print('Avg. Time in queue:{}'.format(round(wq,3)))\n",
        "print('Avg. Time in the system:{}'.format(round(W,3)))\n",
        "print('Utilization Rate in system:{}'.format(round(𝜌,3)))\n",
        "print('Avg. Waitlist Length in system:{}'.format(round(lq,3)))\n",
        "print('Avg number of customer in system:{}'.format(round(L,3)))\n"
      ]
    },
    {
      "cell_type": "code",
      "execution_count": 25,
      "metadata": {
        "colab": {
          "base_uri": "https://localhost:8080/",
          "height": 439
        },
        "id": "bnEQ-0MCz8Z7",
        "outputId": "14885c91-7553-4d51-ab53-ab8aa67353a5"
      },
      "outputs": [
        {
          "data": {
            "application/vnd.google.colaboratory.intrinsic+json": {
              "summary": "{\n  \"name\": \"df[['id_number','server_id','arrival_date','waiting_time','service_start_date','server_id','service_time','service_end_date','exit_date','queue_size_at_arrival','queue_size_at_departure']]\",\n  \"rows\": 10000,\n  \"fields\": [\n    {\n      \"column\": \"id_number\",\n      \"properties\": {\n        \"dtype\": \"number\",\n        \"std\": 2886,\n        \"min\": 1,\n        \"max\": 10000,\n        \"num_unique_values\": 10000,\n        \"samples\": [\n          6253,\n          4685,\n          1732\n        ],\n        \"semantic_type\": \"\",\n        \"description\": \"\"\n      }\n    },\n    {\n      \"column\": \"server_id\",\n      \"properties\": {\n        \"dtype\": \"number\",\n        \"std\": 0,\n        \"min\": 1,\n        \"max\": 2,\n        \"num_unique_values\": 2,\n        \"samples\": [\n          2,\n          1\n        ],\n        \"semantic_type\": \"\",\n        \"description\": \"\"\n      }\n    },\n    {\n      \"column\": \"arrival_date\",\n      \"properties\": {\n        \"dtype\": \"number\",\n        \"std\": 5.441301084608755,\n        \"min\": 0.003066688322112454,\n        \"max\": 18.9188666326545,\n        \"num_unique_values\": 10000,\n        \"samples\": [\n          11.779462636491683,\n          8.834009541588136\n        ],\n        \"semantic_type\": \"\",\n        \"description\": \"\"\n      }\n    },\n    {\n      \"column\": \"waiting_time\",\n      \"properties\": {\n        \"dtype\": \"number\",\n        \"std\": 0.04485262466943723,\n        \"min\": 0.0,\n        \"max\": 0.20180000064955728,\n        \"num_unique_values\": 9818,\n        \"samples\": [\n          0.11670468771972864,\n          0.154188218103128\n        ],\n        \"semantic_type\": \"\",\n        \"description\": \"\"\n      }\n    },\n    {\n      \"column\": \"service_start_date\",\n      \"properties\": {\n        \"dtype\": \"number\",\n        \"std\": 5.425288793987521,\n        \"min\": 0.003066688322112454,\n        \"max\": 18.932010148323485,\n        \"num_unique_values\": 10000,\n        \"samples\": [\n          11.890519368507908,\n          8.887689545569524\n        ],\n        \"semantic_type\": \"\",\n        \"description\": \"\"\n      }\n    },\n    {\n      \"column\": \"server_id\",\n      \"properties\": {\n        \"dtype\": \"number\",\n        \"std\": 0,\n        \"min\": 1,\n        \"max\": 2,\n        \"num_unique_values\": 2,\n        \"samples\": [\n          2,\n          1\n        ],\n        \"semantic_type\": \"\",\n        \"description\": \"\"\n      }\n    },\n    {\n      \"column\": \"service_time\",\n      \"properties\": {\n        \"dtype\": \"number\",\n        \"std\": 0.003912552370294343,\n        \"min\": 5.133680680557973e-07,\n        \"max\": 0.03588465857383899,\n        \"num_unique_values\": 10000,\n        \"samples\": [\n          0.0007695743586442205,\n          0.00023086455662557626\n        ],\n        \"semantic_type\": \"\",\n        \"description\": \"\"\n      }\n    },\n    {\n      \"column\": \"service_end_date\",\n      \"properties\": {\n        \"dtype\": \"number\",\n        \"std\": 5.425222334967752,\n        \"min\": 0.00525830622463311,\n        \"max\": 18.932397989063016,\n        \"num_unique_values\": 10000,\n        \"samples\": [\n          11.891288942866552,\n          8.88792041012615\n        ],\n        \"semantic_type\": \"\",\n        \"description\": \"\"\n      }\n    },\n    {\n      \"column\": \"exit_date\",\n      \"properties\": {\n        \"dtype\": \"number\",\n        \"std\": 5.425222334967752,\n        \"min\": 0.00525830622463311,\n        \"max\": 18.932397989063016,\n        \"num_unique_values\": 10000,\n        \"samples\": [\n          11.891288942866552,\n          8.88792041012615\n        ],\n        \"semantic_type\": \"\",\n        \"description\": \"\"\n      }\n    },\n    {\n      \"column\": \"queue_size_at_arrival\",\n      \"properties\": {\n        \"dtype\": \"number\",\n        \"std\": 23,\n        \"min\": 0,\n        \"max\": 109,\n        \"num_unique_values\": 110,\n        \"samples\": [\n          78,\n          10\n        ],\n        \"semantic_type\": \"\",\n        \"description\": \"\"\n      }\n    },\n    {\n      \"column\": \"queue_size_at_departure\",\n      \"properties\": {\n        \"dtype\": \"number\",\n        \"std\": 23,\n        \"min\": 0,\n        \"max\": 109,\n        \"num_unique_values\": 110,\n        \"samples\": [\n          81,\n          14\n        ],\n        \"semantic_type\": \"\",\n        \"description\": \"\"\n      }\n    }\n  ]\n}",
              "type": "dataframe"
            },
            "text/html": [
              "\n",
              "  <div id=\"df-0e73d81f-42ff-4d6c-9250-a0828c011943\" class=\"colab-df-container\">\n",
              "    <div>\n",
              "<style scoped>\n",
              "    .dataframe tbody tr th:only-of-type {\n",
              "        vertical-align: middle;\n",
              "    }\n",
              "\n",
              "    .dataframe tbody tr th {\n",
              "        vertical-align: top;\n",
              "    }\n",
              "\n",
              "    .dataframe thead th {\n",
              "        text-align: right;\n",
              "    }\n",
              "</style>\n",
              "<table border=\"1\" class=\"dataframe\">\n",
              "  <thead>\n",
              "    <tr style=\"text-align: right;\">\n",
              "      <th></th>\n",
              "      <th>id_number</th>\n",
              "      <th>server_id</th>\n",
              "      <th>arrival_date</th>\n",
              "      <th>waiting_time</th>\n",
              "      <th>service_start_date</th>\n",
              "      <th>server_id</th>\n",
              "      <th>service_time</th>\n",
              "      <th>service_end_date</th>\n",
              "      <th>exit_date</th>\n",
              "      <th>queue_size_at_arrival</th>\n",
              "      <th>queue_size_at_departure</th>\n",
              "    </tr>\n",
              "  </thead>\n",
              "  <tbody>\n",
              "    <tr>\n",
              "      <th>0</th>\n",
              "      <td>1</td>\n",
              "      <td>1</td>\n",
              "      <td>0.003067</td>\n",
              "      <td>0.000000</td>\n",
              "      <td>0.003067</td>\n",
              "      <td>1</td>\n",
              "      <td>0.002192</td>\n",
              "      <td>0.005258</td>\n",
              "      <td>0.005258</td>\n",
              "      <td>0</td>\n",
              "      <td>1</td>\n",
              "    </tr>\n",
              "    <tr>\n",
              "      <th>1</th>\n",
              "      <td>2</td>\n",
              "      <td>2</td>\n",
              "      <td>0.004430</td>\n",
              "      <td>0.000000</td>\n",
              "      <td>0.004430</td>\n",
              "      <td>2</td>\n",
              "      <td>0.004751</td>\n",
              "      <td>0.009181</td>\n",
              "      <td>0.009181</td>\n",
              "      <td>1</td>\n",
              "      <td>1</td>\n",
              "    </tr>\n",
              "    <tr>\n",
              "      <th>2</th>\n",
              "      <td>3</td>\n",
              "      <td>1</td>\n",
              "      <td>0.008591</td>\n",
              "      <td>0.000000</td>\n",
              "      <td>0.008591</td>\n",
              "      <td>1</td>\n",
              "      <td>0.003352</td>\n",
              "      <td>0.011943</td>\n",
              "      <td>0.011943</td>\n",
              "      <td>1</td>\n",
              "      <td>1</td>\n",
              "    </tr>\n",
              "    <tr>\n",
              "      <th>5</th>\n",
              "      <td>4</td>\n",
              "      <td>2</td>\n",
              "      <td>0.011245</td>\n",
              "      <td>0.000000</td>\n",
              "      <td>0.011245</td>\n",
              "      <td>2</td>\n",
              "      <td>0.007900</td>\n",
              "      <td>0.019145</td>\n",
              "      <td>0.019145</td>\n",
              "      <td>1</td>\n",
              "      <td>4</td>\n",
              "    </tr>\n",
              "    <tr>\n",
              "      <th>3</th>\n",
              "      <td>5</td>\n",
              "      <td>1</td>\n",
              "      <td>0.012493</td>\n",
              "      <td>0.000000</td>\n",
              "      <td>0.012493</td>\n",
              "      <td>1</td>\n",
              "      <td>0.002938</td>\n",
              "      <td>0.015432</td>\n",
              "      <td>0.015432</td>\n",
              "      <td>1</td>\n",
              "      <td>3</td>\n",
              "    </tr>\n",
              "    <tr>\n",
              "      <th>...</th>\n",
              "      <td>...</td>\n",
              "      <td>...</td>\n",
              "      <td>...</td>\n",
              "      <td>...</td>\n",
              "      <td>...</td>\n",
              "      <td>...</td>\n",
              "      <td>...</td>\n",
              "      <td>...</td>\n",
              "      <td>...</td>\n",
              "      <td>...</td>\n",
              "      <td>...</td>\n",
              "    </tr>\n",
              "    <tr>\n",
              "      <th>9999</th>\n",
              "      <td>9996</td>\n",
              "      <td>1</td>\n",
              "      <td>18.913905</td>\n",
              "      <td>0.010715</td>\n",
              "      <td>18.924621</td>\n",
              "      <td>1</td>\n",
              "      <td>0.007777</td>\n",
              "      <td>18.932398</td>\n",
              "      <td>18.932398</td>\n",
              "      <td>4</td>\n",
              "      <td>6</td>\n",
              "    </tr>\n",
              "    <tr>\n",
              "      <th>9995</th>\n",
              "      <td>9997</td>\n",
              "      <td>2</td>\n",
              "      <td>18.915360</td>\n",
              "      <td>0.013019</td>\n",
              "      <td>18.928379</td>\n",
              "      <td>2</td>\n",
              "      <td>0.000836</td>\n",
              "      <td>18.929215</td>\n",
              "      <td>18.929215</td>\n",
              "      <td>4</td>\n",
              "      <td>9</td>\n",
              "    </tr>\n",
              "    <tr>\n",
              "      <th>9996</th>\n",
              "      <td>9998</td>\n",
              "      <td>2</td>\n",
              "      <td>18.915487</td>\n",
              "      <td>0.013728</td>\n",
              "      <td>18.929215</td>\n",
              "      <td>2</td>\n",
              "      <td>0.000704</td>\n",
              "      <td>18.929919</td>\n",
              "      <td>18.929919</td>\n",
              "      <td>5</td>\n",
              "      <td>8</td>\n",
              "    </tr>\n",
              "    <tr>\n",
              "      <th>9997</th>\n",
              "      <td>9999</td>\n",
              "      <td>2</td>\n",
              "      <td>18.918727</td>\n",
              "      <td>0.011193</td>\n",
              "      <td>18.929919</td>\n",
              "      <td>2</td>\n",
              "      <td>0.002091</td>\n",
              "      <td>18.932010</td>\n",
              "      <td>18.932010</td>\n",
              "      <td>5</td>\n",
              "      <td>8</td>\n",
              "    </tr>\n",
              "    <tr>\n",
              "      <th>9998</th>\n",
              "      <td>10000</td>\n",
              "      <td>2</td>\n",
              "      <td>18.918867</td>\n",
              "      <td>0.013144</td>\n",
              "      <td>18.932010</td>\n",
              "      <td>2</td>\n",
              "      <td>0.000161</td>\n",
              "      <td>18.932171</td>\n",
              "      <td>18.932171</td>\n",
              "      <td>6</td>\n",
              "      <td>7</td>\n",
              "    </tr>\n",
              "  </tbody>\n",
              "</table>\n",
              "<p>10000 rows × 11 columns</p>\n",
              "</div>\n",
              "    <div class=\"colab-df-buttons\">\n",
              "\n",
              "  <div class=\"colab-df-container\">\n",
              "    <button class=\"colab-df-convert\" onclick=\"convertToInteractive('df-0e73d81f-42ff-4d6c-9250-a0828c011943')\"\n",
              "            title=\"Convert this dataframe to an interactive table.\"\n",
              "            style=\"display:none;\">\n",
              "\n",
              "  <svg xmlns=\"http://www.w3.org/2000/svg\" height=\"24px\" viewBox=\"0 -960 960 960\">\n",
              "    <path d=\"M120-120v-720h720v720H120Zm60-500h600v-160H180v160Zm220 220h160v-160H400v160Zm0 220h160v-160H400v160ZM180-400h160v-160H180v160Zm440 0h160v-160H620v160ZM180-180h160v-160H180v160Zm440 0h160v-160H620v160Z\"/>\n",
              "  </svg>\n",
              "    </button>\n",
              "\n",
              "  <style>\n",
              "    .colab-df-container {\n",
              "      display:flex;\n",
              "      gap: 12px;\n",
              "    }\n",
              "\n",
              "    .colab-df-convert {\n",
              "      background-color: #E8F0FE;\n",
              "      border: none;\n",
              "      border-radius: 50%;\n",
              "      cursor: pointer;\n",
              "      display: none;\n",
              "      fill: #1967D2;\n",
              "      height: 32px;\n",
              "      padding: 0 0 0 0;\n",
              "      width: 32px;\n",
              "    }\n",
              "\n",
              "    .colab-df-convert:hover {\n",
              "      background-color: #E2EBFA;\n",
              "      box-shadow: 0px 1px 2px rgba(60, 64, 67, 0.3), 0px 1px 3px 1px rgba(60, 64, 67, 0.15);\n",
              "      fill: #174EA6;\n",
              "    }\n",
              "\n",
              "    .colab-df-buttons div {\n",
              "      margin-bottom: 4px;\n",
              "    }\n",
              "\n",
              "    [theme=dark] .colab-df-convert {\n",
              "      background-color: #3B4455;\n",
              "      fill: #D2E3FC;\n",
              "    }\n",
              "\n",
              "    [theme=dark] .colab-df-convert:hover {\n",
              "      background-color: #434B5C;\n",
              "      box-shadow: 0px 1px 3px 1px rgba(0, 0, 0, 0.15);\n",
              "      filter: drop-shadow(0px 1px 2px rgba(0, 0, 0, 0.3));\n",
              "      fill: #FFFFFF;\n",
              "    }\n",
              "  </style>\n",
              "\n",
              "    <script>\n",
              "      const buttonEl =\n",
              "        document.querySelector('#df-0e73d81f-42ff-4d6c-9250-a0828c011943 button.colab-df-convert');\n",
              "      buttonEl.style.display =\n",
              "        google.colab.kernel.accessAllowed ? 'block' : 'none';\n",
              "\n",
              "      async function convertToInteractive(key) {\n",
              "        const element = document.querySelector('#df-0e73d81f-42ff-4d6c-9250-a0828c011943');\n",
              "        const dataTable =\n",
              "          await google.colab.kernel.invokeFunction('convertToInteractive',\n",
              "                                                    [key], {});\n",
              "        if (!dataTable) return;\n",
              "\n",
              "        const docLinkHtml = 'Like what you see? Visit the ' +\n",
              "          '<a target=\"_blank\" href=https://colab.research.google.com/notebooks/data_table.ipynb>data table notebook</a>'\n",
              "          + ' to learn more about interactive tables.';\n",
              "        element.innerHTML = '';\n",
              "        dataTable['output_type'] = 'display_data';\n",
              "        await google.colab.output.renderOutput(dataTable, element);\n",
              "        const docLink = document.createElement('div');\n",
              "        docLink.innerHTML = docLinkHtml;\n",
              "        element.appendChild(docLink);\n",
              "      }\n",
              "    </script>\n",
              "  </div>\n",
              "\n",
              "\n",
              "<div id=\"df-d5060db4-60ad-4fa1-aefc-71696b71bd29\">\n",
              "  <button class=\"colab-df-quickchart\" onclick=\"quickchart('df-d5060db4-60ad-4fa1-aefc-71696b71bd29')\"\n",
              "            title=\"Suggest charts\"\n",
              "            style=\"display:none;\">\n",
              "\n",
              "<svg xmlns=\"http://www.w3.org/2000/svg\" height=\"24px\"viewBox=\"0 0 24 24\"\n",
              "     width=\"24px\">\n",
              "    <g>\n",
              "        <path d=\"M19 3H5c-1.1 0-2 .9-2 2v14c0 1.1.9 2 2 2h14c1.1 0 2-.9 2-2V5c0-1.1-.9-2-2-2zM9 17H7v-7h2v7zm4 0h-2V7h2v10zm4 0h-2v-4h2v4z\"/>\n",
              "    </g>\n",
              "</svg>\n",
              "  </button>\n",
              "\n",
              "<style>\n",
              "  .colab-df-quickchart {\n",
              "      --bg-color: #E8F0FE;\n",
              "      --fill-color: #1967D2;\n",
              "      --hover-bg-color: #E2EBFA;\n",
              "      --hover-fill-color: #174EA6;\n",
              "      --disabled-fill-color: #AAA;\n",
              "      --disabled-bg-color: #DDD;\n",
              "  }\n",
              "\n",
              "  [theme=dark] .colab-df-quickchart {\n",
              "      --bg-color: #3B4455;\n",
              "      --fill-color: #D2E3FC;\n",
              "      --hover-bg-color: #434B5C;\n",
              "      --hover-fill-color: #FFFFFF;\n",
              "      --disabled-bg-color: #3B4455;\n",
              "      --disabled-fill-color: #666;\n",
              "  }\n",
              "\n",
              "  .colab-df-quickchart {\n",
              "    background-color: var(--bg-color);\n",
              "    border: none;\n",
              "    border-radius: 50%;\n",
              "    cursor: pointer;\n",
              "    display: none;\n",
              "    fill: var(--fill-color);\n",
              "    height: 32px;\n",
              "    padding: 0;\n",
              "    width: 32px;\n",
              "  }\n",
              "\n",
              "  .colab-df-quickchart:hover {\n",
              "    background-color: var(--hover-bg-color);\n",
              "    box-shadow: 0 1px 2px rgba(60, 64, 67, 0.3), 0 1px 3px 1px rgba(60, 64, 67, 0.15);\n",
              "    fill: var(--button-hover-fill-color);\n",
              "  }\n",
              "\n",
              "  .colab-df-quickchart-complete:disabled,\n",
              "  .colab-df-quickchart-complete:disabled:hover {\n",
              "    background-color: var(--disabled-bg-color);\n",
              "    fill: var(--disabled-fill-color);\n",
              "    box-shadow: none;\n",
              "  }\n",
              "\n",
              "  .colab-df-spinner {\n",
              "    border: 2px solid var(--fill-color);\n",
              "    border-color: transparent;\n",
              "    border-bottom-color: var(--fill-color);\n",
              "    animation:\n",
              "      spin 1s steps(1) infinite;\n",
              "  }\n",
              "\n",
              "  @keyframes spin {\n",
              "    0% {\n",
              "      border-color: transparent;\n",
              "      border-bottom-color: var(--fill-color);\n",
              "      border-left-color: var(--fill-color);\n",
              "    }\n",
              "    20% {\n",
              "      border-color: transparent;\n",
              "      border-left-color: var(--fill-color);\n",
              "      border-top-color: var(--fill-color);\n",
              "    }\n",
              "    30% {\n",
              "      border-color: transparent;\n",
              "      border-left-color: var(--fill-color);\n",
              "      border-top-color: var(--fill-color);\n",
              "      border-right-color: var(--fill-color);\n",
              "    }\n",
              "    40% {\n",
              "      border-color: transparent;\n",
              "      border-right-color: var(--fill-color);\n",
              "      border-top-color: var(--fill-color);\n",
              "    }\n",
              "    60% {\n",
              "      border-color: transparent;\n",
              "      border-right-color: var(--fill-color);\n",
              "    }\n",
              "    80% {\n",
              "      border-color: transparent;\n",
              "      border-right-color: var(--fill-color);\n",
              "      border-bottom-color: var(--fill-color);\n",
              "    }\n",
              "    90% {\n",
              "      border-color: transparent;\n",
              "      border-bottom-color: var(--fill-color);\n",
              "    }\n",
              "  }\n",
              "</style>\n",
              "\n",
              "  <script>\n",
              "    async function quickchart(key) {\n",
              "      const quickchartButtonEl =\n",
              "        document.querySelector('#' + key + ' button');\n",
              "      quickchartButtonEl.disabled = true;  // To prevent multiple clicks.\n",
              "      quickchartButtonEl.classList.add('colab-df-spinner');\n",
              "      try {\n",
              "        const charts = await google.colab.kernel.invokeFunction(\n",
              "            'suggestCharts', [key], {});\n",
              "      } catch (error) {\n",
              "        console.error('Error during call to suggestCharts:', error);\n",
              "      }\n",
              "      quickchartButtonEl.classList.remove('colab-df-spinner');\n",
              "      quickchartButtonEl.classList.add('colab-df-quickchart-complete');\n",
              "    }\n",
              "    (() => {\n",
              "      let quickchartButtonEl =\n",
              "        document.querySelector('#df-d5060db4-60ad-4fa1-aefc-71696b71bd29 button');\n",
              "      quickchartButtonEl.style.display =\n",
              "        google.colab.kernel.accessAllowed ? 'block' : 'none';\n",
              "    })();\n",
              "  </script>\n",
              "</div>\n",
              "\n",
              "    </div>\n",
              "  </div>\n"
            ],
            "text/plain": [
              "      id_number  server_id  arrival_date  waiting_time  service_start_date  \\\n",
              "0             1          1      0.003067      0.000000            0.003067   \n",
              "1             2          2      0.004430      0.000000            0.004430   \n",
              "2             3          1      0.008591      0.000000            0.008591   \n",
              "5             4          2      0.011245      0.000000            0.011245   \n",
              "3             5          1      0.012493      0.000000            0.012493   \n",
              "...         ...        ...           ...           ...                 ...   \n",
              "9999       9996          1     18.913905      0.010715           18.924621   \n",
              "9995       9997          2     18.915360      0.013019           18.928379   \n",
              "9996       9998          2     18.915487      0.013728           18.929215   \n",
              "9997       9999          2     18.918727      0.011193           18.929919   \n",
              "9998      10000          2     18.918867      0.013144           18.932010   \n",
              "\n",
              "      server_id  service_time  service_end_date  exit_date  \\\n",
              "0             1      0.002192          0.005258   0.005258   \n",
              "1             2      0.004751          0.009181   0.009181   \n",
              "2             1      0.003352          0.011943   0.011943   \n",
              "5             2      0.007900          0.019145   0.019145   \n",
              "3             1      0.002938          0.015432   0.015432   \n",
              "...         ...           ...               ...        ...   \n",
              "9999          1      0.007777         18.932398  18.932398   \n",
              "9995          2      0.000836         18.929215  18.929215   \n",
              "9996          2      0.000704         18.929919  18.929919   \n",
              "9997          2      0.002091         18.932010  18.932010   \n",
              "9998          2      0.000161         18.932171  18.932171   \n",
              "\n",
              "      queue_size_at_arrival  queue_size_at_departure  \n",
              "0                         0                        1  \n",
              "1                         1                        1  \n",
              "2                         1                        1  \n",
              "5                         1                        4  \n",
              "3                         1                        3  \n",
              "...                     ...                      ...  \n",
              "9999                      4                        6  \n",
              "9995                      4                        9  \n",
              "9996                      5                        8  \n",
              "9997                      5                        8  \n",
              "9998                      6                        7  \n",
              "\n",
              "[10000 rows x 11 columns]"
            ]
          },
          "execution_count": 25,
          "metadata": {},
          "output_type": "execute_result"
        }
      ],
      "source": [
        "\n",
        "l = (l_arrival+ t_arrival)\n",
        "mu = (l_service + t_service)/2\n",
        "c = 2\n",
        "decimal = 4\n",
        "\n",
        "cv = 1.05\n",
        "alpha = (1/cv)**2\n",
        "beta_mu = alpha/mu\n",
        "beta_l = alpha/l\n",
        "\n",
        "\n",
        "# (1117, 18) hour\n",
        "N = ciw.create_network(\n",
        "    arrival_distributions=[ciw.dists.Gamma(alpha, beta_l)],\n",
        "    service_distributions=[ciw.dists.Gamma(alpha, beta_mu)],\n",
        "    number_of_servers=[c])\n",
        "ciw.seed(0)\n",
        "\n",
        "\n",
        "Q = ciw.Simulation(N, tracker=ciw.trackers.SystemPopulation())\n",
        "\n",
        "# Stopping Criteria\n",
        "Q.simulate_until_max_customers(10000)\n",
        "#Q.simulate_until_max_time(10000)\n",
        "\n",
        "recs = Q.get_all_records()\n",
        "df = pd.DataFrame(recs)\n",
        "df.sort_values(by='arrival_date',inplace=True)\n",
        "df['inter_arrival'] = df.arrival_date - df.arrival_date.shift(1,fill_value=0)\n",
        "df['system_time'] = df.exit_date - df.arrival_date\n",
        "df.shape\n",
        "df[['id_number','server_id','arrival_date','waiting_time','service_start_date','server_id','service_time','service_end_date','exit_date','queue_size_at_arrival','queue_size_at_departure']]\n"
      ]
    },
    {
      "cell_type": "markdown",
      "metadata": {
        "id": "pLo494Kt5R4O"
      },
      "source": []
    },
    {
      "cell_type": "code",
      "execution_count": 18,
      "metadata": {
        "colab": {
          "base_uri": "https://localhost:8080/",
          "height": 350
        },
        "id": "8vErHdaKBJl9",
        "outputId": "02687664-2ac9-4563-e314-69307af1ff04"
      },
      "outputs": [
        {
          "ename": "KeyboardInterrupt",
          "evalue": "",
          "output_type": "error",
          "traceback": [
            "\u001b[0;31m---------------------------------------------------------------------------\u001b[0m",
            "\u001b[0;31mKeyboardInterrupt\u001b[0m                         Traceback (most recent call last)",
            "\u001b[0;32m<ipython-input-18-651e09e2fd16>\u001b[0m in \u001b[0;36m<cell line: 23>\u001b[0;34m()\u001b[0m\n\u001b[1;32m     24\u001b[0m     \u001b[0mQ\u001b[0m\u001b[0;34m.\u001b[0m\u001b[0msimulate_until_max_time\u001b[0m\u001b[0;34m(\u001b[0m\u001b[0mtime\u001b[0m\u001b[0;34m)\u001b[0m\u001b[0;34m\u001b[0m\u001b[0;34m\u001b[0m\u001b[0m\n\u001b[1;32m     25\u001b[0m     \u001b[0mrecs\u001b[0m \u001b[0;34m=\u001b[0m \u001b[0mQ\u001b[0m\u001b[0;34m.\u001b[0m\u001b[0mget_all_records\u001b[0m\u001b[0;34m(\u001b[0m\u001b[0;34m)\u001b[0m\u001b[0;34m\u001b[0m\u001b[0;34m\u001b[0m\u001b[0m\n\u001b[0;32m---> 26\u001b[0;31m     \u001b[0mdf\u001b[0m \u001b[0;34m=\u001b[0m \u001b[0mpd\u001b[0m\u001b[0;34m.\u001b[0m\u001b[0mDataFrame\u001b[0m\u001b[0;34m(\u001b[0m\u001b[0mrecs\u001b[0m\u001b[0;34m)\u001b[0m\u001b[0;34m\u001b[0m\u001b[0;34m\u001b[0m\u001b[0m\n\u001b[0m\u001b[1;32m     27\u001b[0m     \u001b[0mavg_wait_time\u001b[0m \u001b[0;34m=\u001b[0m \u001b[0mdf\u001b[0m\u001b[0;34m[\u001b[0m\u001b[0;34m'waiting_time'\u001b[0m\u001b[0;34m]\u001b[0m\u001b[0;34m.\u001b[0m\u001b[0mmean\u001b[0m\u001b[0;34m(\u001b[0m\u001b[0;34m)\u001b[0m\u001b[0;34m\u001b[0m\u001b[0;34m\u001b[0m\u001b[0m\n\u001b[1;32m     28\u001b[0m     \u001b[0mavg_wait_time_sim\u001b[0m\u001b[0;34m.\u001b[0m\u001b[0mappend\u001b[0m\u001b[0;34m(\u001b[0m\u001b[0mavg_wait_time\u001b[0m\u001b[0;34m)\u001b[0m\u001b[0;34m\u001b[0m\u001b[0;34m\u001b[0m\u001b[0m\n",
            "\u001b[0;32m/usr/local/lib/python3.10/dist-packages/pandas/core/frame.py\u001b[0m in \u001b[0;36m__init__\u001b[0;34m(self, data, index, columns, dtype, copy)\u001b[0m\n\u001b[1;32m    780\u001b[0m                     \u001b[0;32mif\u001b[0m \u001b[0mcolumns\u001b[0m \u001b[0;32mis\u001b[0m \u001b[0;32mnot\u001b[0m \u001b[0;32mNone\u001b[0m\u001b[0;34m:\u001b[0m\u001b[0;34m\u001b[0m\u001b[0;34m\u001b[0m\u001b[0m\n\u001b[1;32m    781\u001b[0m                         \u001b[0mcolumns\u001b[0m \u001b[0;34m=\u001b[0m \u001b[0mensure_index\u001b[0m\u001b[0;34m(\u001b[0m\u001b[0mcolumns\u001b[0m\u001b[0;34m)\u001b[0m\u001b[0;34m\u001b[0m\u001b[0;34m\u001b[0m\u001b[0m\n\u001b[0;32m--> 782\u001b[0;31m                     arrays, columns, index = nested_data_to_arrays(\n\u001b[0m\u001b[1;32m    783\u001b[0m                         \u001b[0;31m# error: Argument 3 to \"nested_data_to_arrays\" has incompatible\u001b[0m\u001b[0;34m\u001b[0m\u001b[0;34m\u001b[0m\u001b[0m\n\u001b[1;32m    784\u001b[0m                         \u001b[0;31m# type \"Optional[Collection[Any]]\"; expected \"Optional[Index]\"\u001b[0m\u001b[0;34m\u001b[0m\u001b[0;34m\u001b[0m\u001b[0m\n",
            "\u001b[0;32m/usr/local/lib/python3.10/dist-packages/pandas/core/internals/construction.py\u001b[0m in \u001b[0;36mnested_data_to_arrays\u001b[0;34m(data, columns, index, dtype)\u001b[0m\n\u001b[1;32m    496\u001b[0m         \u001b[0mcolumns\u001b[0m \u001b[0;34m=\u001b[0m \u001b[0mensure_index\u001b[0m\u001b[0;34m(\u001b[0m\u001b[0mdata\u001b[0m\u001b[0;34m[\u001b[0m\u001b[0;36m0\u001b[0m\u001b[0;34m]\u001b[0m\u001b[0;34m.\u001b[0m\u001b[0m_fields\u001b[0m\u001b[0;34m)\u001b[0m\u001b[0;34m\u001b[0m\u001b[0;34m\u001b[0m\u001b[0m\n\u001b[1;32m    497\u001b[0m \u001b[0;34m\u001b[0m\u001b[0m\n\u001b[0;32m--> 498\u001b[0;31m     \u001b[0marrays\u001b[0m\u001b[0;34m,\u001b[0m \u001b[0mcolumns\u001b[0m \u001b[0;34m=\u001b[0m \u001b[0mto_arrays\u001b[0m\u001b[0;34m(\u001b[0m\u001b[0mdata\u001b[0m\u001b[0;34m,\u001b[0m \u001b[0mcolumns\u001b[0m\u001b[0;34m,\u001b[0m \u001b[0mdtype\u001b[0m\u001b[0;34m=\u001b[0m\u001b[0mdtype\u001b[0m\u001b[0;34m)\u001b[0m\u001b[0;34m\u001b[0m\u001b[0;34m\u001b[0m\u001b[0m\n\u001b[0m\u001b[1;32m    499\u001b[0m     \u001b[0mcolumns\u001b[0m \u001b[0;34m=\u001b[0m \u001b[0mensure_index\u001b[0m\u001b[0;34m(\u001b[0m\u001b[0mcolumns\u001b[0m\u001b[0;34m)\u001b[0m\u001b[0;34m\u001b[0m\u001b[0;34m\u001b[0m\u001b[0m\n\u001b[1;32m    500\u001b[0m \u001b[0;34m\u001b[0m\u001b[0m\n",
            "\u001b[0;32m/usr/local/lib/python3.10/dist-packages/pandas/core/internals/construction.py\u001b[0m in \u001b[0;36mto_arrays\u001b[0;34m(data, columns, dtype)\u001b[0m\n\u001b[1;32m    828\u001b[0m \u001b[0;34m\u001b[0m\u001b[0m\n\u001b[1;32m    829\u001b[0m     \u001b[0;32mif\u001b[0m \u001b[0misinstance\u001b[0m\u001b[0;34m(\u001b[0m\u001b[0mdata\u001b[0m\u001b[0;34m[\u001b[0m\u001b[0;36m0\u001b[0m\u001b[0;34m]\u001b[0m\u001b[0;34m,\u001b[0m \u001b[0;34m(\u001b[0m\u001b[0mlist\u001b[0m\u001b[0;34m,\u001b[0m \u001b[0mtuple\u001b[0m\u001b[0;34m)\u001b[0m\u001b[0;34m)\u001b[0m\u001b[0;34m:\u001b[0m\u001b[0;34m\u001b[0m\u001b[0;34m\u001b[0m\u001b[0m\n\u001b[0;32m--> 830\u001b[0;31m         \u001b[0marr\u001b[0m \u001b[0;34m=\u001b[0m \u001b[0m_list_to_arrays\u001b[0m\u001b[0;34m(\u001b[0m\u001b[0mdata\u001b[0m\u001b[0;34m)\u001b[0m\u001b[0;34m\u001b[0m\u001b[0;34m\u001b[0m\u001b[0m\n\u001b[0m\u001b[1;32m    831\u001b[0m     \u001b[0;32melif\u001b[0m \u001b[0misinstance\u001b[0m\u001b[0;34m(\u001b[0m\u001b[0mdata\u001b[0m\u001b[0;34m[\u001b[0m\u001b[0;36m0\u001b[0m\u001b[0;34m]\u001b[0m\u001b[0;34m,\u001b[0m \u001b[0mabc\u001b[0m\u001b[0;34m.\u001b[0m\u001b[0mMapping\u001b[0m\u001b[0;34m)\u001b[0m\u001b[0;34m:\u001b[0m\u001b[0;34m\u001b[0m\u001b[0;34m\u001b[0m\u001b[0m\n\u001b[1;32m    832\u001b[0m         \u001b[0marr\u001b[0m\u001b[0;34m,\u001b[0m \u001b[0mcolumns\u001b[0m \u001b[0;34m=\u001b[0m \u001b[0m_list_of_dict_to_arrays\u001b[0m\u001b[0;34m(\u001b[0m\u001b[0mdata\u001b[0m\u001b[0;34m,\u001b[0m \u001b[0mcolumns\u001b[0m\u001b[0;34m)\u001b[0m\u001b[0;34m\u001b[0m\u001b[0;34m\u001b[0m\u001b[0m\n",
            "\u001b[0;32m/usr/local/lib/python3.10/dist-packages/pandas/core/internals/construction.py\u001b[0m in \u001b[0;36m_list_to_arrays\u001b[0;34m(data)\u001b[0m\n\u001b[1;32m    846\u001b[0m     \u001b[0;31m# Note: we already check len(data) > 0 before getting hre\u001b[0m\u001b[0;34m\u001b[0m\u001b[0;34m\u001b[0m\u001b[0m\n\u001b[1;32m    847\u001b[0m     \u001b[0;32mif\u001b[0m \u001b[0misinstance\u001b[0m\u001b[0;34m(\u001b[0m\u001b[0mdata\u001b[0m\u001b[0;34m[\u001b[0m\u001b[0;36m0\u001b[0m\u001b[0;34m]\u001b[0m\u001b[0;34m,\u001b[0m \u001b[0mtuple\u001b[0m\u001b[0;34m)\u001b[0m\u001b[0;34m:\u001b[0m\u001b[0;34m\u001b[0m\u001b[0;34m\u001b[0m\u001b[0m\n\u001b[0;32m--> 848\u001b[0;31m         \u001b[0mcontent\u001b[0m \u001b[0;34m=\u001b[0m \u001b[0mlib\u001b[0m\u001b[0;34m.\u001b[0m\u001b[0mto_object_array_tuples\u001b[0m\u001b[0;34m(\u001b[0m\u001b[0mdata\u001b[0m\u001b[0;34m)\u001b[0m\u001b[0;34m\u001b[0m\u001b[0;34m\u001b[0m\u001b[0m\n\u001b[0m\u001b[1;32m    849\u001b[0m     \u001b[0;32melse\u001b[0m\u001b[0;34m:\u001b[0m\u001b[0;34m\u001b[0m\u001b[0;34m\u001b[0m\u001b[0m\n\u001b[1;32m    850\u001b[0m         \u001b[0;31m# list of lists\u001b[0m\u001b[0;34m\u001b[0m\u001b[0;34m\u001b[0m\u001b[0m\n",
            "\u001b[0;31mKeyboardInterrupt\u001b[0m: "
          ]
        }
      ],
      "source": [
        "l = (l_arrival+ t_arrival)\n",
        "mu = (l_service + t_service)/2\n",
        "c = 2\n",
        "decimal = 4\n",
        "\n",
        "cv = 1.05\n",
        "alpha = (1/cv)**2\n",
        "beta_mu = alpha/mu\n",
        "beta_l = alpha/l\n",
        "\n",
        "\n",
        "# (1117, 18) hour\n",
        "N = ciw.create_network(\n",
        "    arrival_distributions=[ciw.dists.Gamma(alpha, beta_l)],\n",
        "    service_distributions=[ciw.dists.Gamma(alpha, beta_mu)],\n",
        "    number_of_servers=[c])\n",
        "ciw.seed(0)\n",
        "\n",
        "avg_wait_time_sim=[]\n",
        "\n",
        "\n",
        "### running for different max time\n",
        "for time in np.arange(1, 100,5)*24:\n",
        "    Q.simulate_until_max_time(time)\n",
        "    recs = Q.get_all_records()\n",
        "    df = pd.DataFrame(recs)\n",
        "    avg_wait_time = df['waiting_time'].mean()\n",
        "    avg_wait_time_sim.append(avg_wait_time)"
      ]
    },
    {
      "cell_type": "code",
      "execution_count": null,
      "metadata": {
        "id": "2Ti8uYI14qUR"
      },
      "outputs": [],
      "source": [
        "fig,ax = plt.subplots(figsize=(12,4))\n",
        "ax.plot(np.arange(1, 100,5)*24, avg_wait_time_sim)\n",
        "ax.set_ylabel(\"Average Wait Time \", fontsize=14)\n",
        "ax.set_xlabel(\"Simultion Stop Time(Hours)\", fontsize=14)\n",
        "plt.legend(bbox_to_anchor=(1.6, .5))\n",
        "\n",
        "plt.title('Steady State Behavior of Avg. Wait Time')\n",
        "plt.show()"
      ]
    },
    {
      "cell_type": "code",
      "execution_count": 23,
      "metadata": {
        "colab": {
          "base_uri": "https://localhost:8080/",
          "height": 207
        },
        "id": "ShUDo-f64GWD",
        "outputId": "b7c3df4c-64ea-4555-f8f5-9eee31f47841"
      },
      "outputs": [
        {
          "ename": "NameError",
          "evalue": "name 'df_steady_state' is not defined",
          "output_type": "error",
          "traceback": [
            "\u001b[0;31m---------------------------------------------------------------------------\u001b[0m",
            "\u001b[0;31mNameError\u001b[0m                                 Traceback (most recent call last)",
            "\u001b[0;32m<ipython-input-23-3138c0caad96>\u001b[0m in \u001b[0;36m<cell line: 4>\u001b[0;34m()\u001b[0m\n\u001b[1;32m      2\u001b[0m \u001b[0mavg_wait_time\u001b[0m \u001b[0;34m=\u001b[0m \u001b[0mdf\u001b[0m\u001b[0;34m[\u001b[0m\u001b[0;34m'waiting_time'\u001b[0m\u001b[0;34m]\u001b[0m\u001b[0;34m.\u001b[0m\u001b[0mmean\u001b[0m\u001b[0;34m(\u001b[0m\u001b[0;34m)\u001b[0m\u001b[0;34m\u001b[0m\u001b[0;34m\u001b[0m\u001b[0m\n\u001b[1;32m      3\u001b[0m \u001b[0mavg_queue_size\u001b[0m \u001b[0;34m=\u001b[0m \u001b[0mdf\u001b[0m\u001b[0;34m[\u001b[0m\u001b[0;34m'queue_size_at_arrival'\u001b[0m\u001b[0;34m]\u001b[0m\u001b[0;34m.\u001b[0m\u001b[0mmean\u001b[0m\u001b[0;34m(\u001b[0m\u001b[0;34m)\u001b[0m\u001b[0;34m\u001b[0m\u001b[0;34m\u001b[0m\u001b[0m\n\u001b[0;32m----> 4\u001b[0;31m \u001b[0mP_0\u001b[0m \u001b[0;34m=\u001b[0m \u001b[0mdf_steady_state\u001b[0m\u001b[0;34m[\u001b[0m\u001b[0mdf_steady_state\u001b[0m\u001b[0;34m[\u001b[0m\u001b[0;34m'waiting_time'\u001b[0m\u001b[0;34m]\u001b[0m\u001b[0;34m==\u001b[0m\u001b[0;36m0\u001b[0m\u001b[0;34m]\u001b[0m\u001b[0;34m.\u001b[0m\u001b[0mshape\u001b[0m\u001b[0;34m[\u001b[0m\u001b[0;36m0\u001b[0m\u001b[0;34m]\u001b[0m\u001b[0;34m/\u001b[0m\u001b[0mdf_steady_state\u001b[0m\u001b[0;34m.\u001b[0m\u001b[0mshape\u001b[0m\u001b[0;34m[\u001b[0m\u001b[0;36m0\u001b[0m\u001b[0;34m]\u001b[0m\u001b[0;34m\u001b[0m\u001b[0;34m\u001b[0m\u001b[0m\n\u001b[0m\u001b[1;32m      5\u001b[0m \u001b[0;34m\u001b[0m\u001b[0m\n\u001b[1;32m      6\u001b[0m print('Output:','\\n',\n",
            "\u001b[0;31mNameError\u001b[0m: name 'df_steady_state' is not defined"
          ]
        }
      ],
      "source": [
        "avg_system_time = df['system_time'].mean()\n",
        "avg_wait_time = df['waiting_time'].mean()\n",
        "avg_queue_size = df['queue_size_at_arrival'].mean()\n",
        "P_0 = df_steady_state[df_steady_state['waiting_time']==0].shape[0]/df_steady_state.shape[0]\n",
        "\n",
        "print('Output:','\\n',\n",
        "     'Expected wait time in line (Wq):',str(round(avg_wait_time,decimal)),'\\n',\n",
        "     'Expected time spent on the system (Ws):',str(round(avg_system_time,decimal)),'\\n',\n",
        "     'Expected number of customers in line (Lq):',str(round(avg_queue_size,decimal)),'\\n',\n",
        "     'Probability that there is no customer (P0):',str(round(P_0,decimal)),'\\n'\n",
        ")"
      ]
    },
    {
      "cell_type": "markdown",
      "metadata": {
        "id": "8xe0g6sqdrN8"
      },
      "source": [
        "# Question 4. Explore the potential consequences for the original waitlist if patient arrivals were to increase by 5%. Utilize both simulation techniques and steady-state analytical solutions to analyze the scenario."
      ]
    },
    {
      "cell_type": "code",
      "execution_count": 41,
      "metadata": {
        "id": "QFNIRncv-9kq"
      },
      "outputs": [],
      "source": [
        "##### x! ##########\n",
        "def factorial(x):\n",
        "    if (x == 1) or (x==0):\n",
        "        return 1\n",
        "    else:\n",
        "        # recursive call to the function\n",
        "        return (x * factorial(x-1))\n",
        "\n",
        "###################\n",
        "def user_defined_sum(c,𝜌):\n",
        "    sum = 0\n",
        "    for n in range(c):\n",
        "        sum += (c*𝜌)**n/factorial(n)\n",
        "\n",
        "    return 1/(sum + (c*𝜌)**c/(factorial(c)*(1-𝜌)))\n",
        "\n",
        "##### M/M/c ##########\n",
        "def m_m_c(𝜆,µ,c):\n",
        "    𝜌 = min(𝜆/(c*µ),1-(1e-8))\n",
        "    p0 = user_defined_sum(c,𝜌)\n",
        "    lq = (c*𝜌)**c*p0*𝜌/(factorial(c)*(1-𝜌)**2)\n",
        "    wq = lq/𝜆\n",
        "    L = lq + 𝜆/µ\n",
        "    W=L/𝜆\n",
        "    return(𝜌,p0,lq,wq,L,W)"
      ]
    },
    {
      "cell_type": "code",
      "execution_count": 42,
      "metadata": {
        "colab": {
          "base_uri": "https://localhost:8080/"
        },
        "id": "3acWOR-39kRA",
        "outputId": "aa226c6d-00e5-4f64-9757-c5ab5208181e"
      },
      "outputs": [
        {
          "name": "stdout",
          "output_type": "stream",
          "text": [
            "Toronto\n",
            "Avg. Time in queue:873543.617\n",
            "Avg. Time in the system:873543.626\n",
            "Utilization Rate in system:1.0\n",
            "Avg. Waitlist Length in system:99999997.498\n"
          ]
        }
      ],
      "source": [
        "# London\n",
        "𝜆 = l_arrival*1.05\n",
        "µ = l_service\n",
        "\n",
        "𝜌,p0,lq,wq,L,W = m_m_c(𝜆,µ,c=1)\n",
        "print(\"Toronto\")\n",
        "print('Avg. Time in queue:{}'.format(round(wq,3)))\n",
        "print('Avg. Time in the system:{}'.format(round(W,3)))\n",
        "print('Utilization Rate in system:{}'.format(round(𝜌,3)))\n",
        "print('Avg. Waitlist Length in system:{}'.format(round(lq,3)))"
      ]
    },
    {
      "cell_type": "code",
      "execution_count": 43,
      "metadata": {
        "colab": {
          "base_uri": "https://localhost:8080/"
        },
        "id": "Y8kl4X1V8_PX",
        "outputId": "fc0a3cf0-ef5f-4941-df8b-597b1de0ac16"
      },
      "outputs": [
        {
          "name": "stdout",
          "output_type": "stream",
          "text": [
            "Toronto\n",
            "Avg. Time in queue:291017.49\n",
            "Avg. Time in the system:291017.493\n",
            "Utilization Rate in system:1.0\n",
            "Avg. Waitlist Length in system:99999997.498\n"
          ]
        }
      ],
      "source": [
        "# Toronto\n",
        "𝜆 = t_arrival*1.05\n",
        "µ = t_service\n",
        "\n",
        "𝜌,p0,lq,wq,L,W = m_m_c(𝜆,µ,c=1)\n",
        "print(\"Toronto\")\n",
        "print('Avg. Time in queue:{}'.format(round(wq,3)))\n",
        "print('Avg. Time in the system:{}'.format(round(W,3)))\n",
        "print('Utilization Rate in system:{}'.format(round(𝜌,3)))\n",
        "print('Avg. Waitlist Length in system:{}'.format(round(lq,3)))\n"
      ]
    },
    {
      "cell_type": "markdown",
      "metadata": {
        "id": "D1ox5EQ1dwbc"
      },
      "source": [
        "# Question 5. What specific recommendations would you make to improve the system?"
      ]
    }
  ],
  "metadata": {
    "colab": {
      "provenance": [],
      "toc_visible": true
    },
    "kernelspec": {
      "display_name": "Python 3",
      "name": "python3"
    },
    "language_info": {
      "name": "python"
    }
  },
  "nbformat": 4,
  "nbformat_minor": 0
}
